{
  "nbformat": 4,
  "nbformat_minor": 0,
  "metadata": {
    "colab": {
      "provenance": []
    },
    "kernelspec": {
      "name": "ir",
      "display_name": "R"
    },
    "language_info": {
      "name": "R"
    }
  },
  "cells": [
    {
      "cell_type": "code",
      "execution_count": null,
      "metadata": {
        "id": "pfDILH-WCw5a"
      },
      "outputs": [],
      "source": []
    },
    {
      "cell_type": "markdown",
      "source": [
        "**PYTHON LIBRARIES:**\n",
        "\n",
        "**1.Numpy**\n",
        "\n",
        "Numpy is a general-purpose array-processing package. It provides a high-performance multidimensional array object, and tools for working with these arrays. It is the fundamental package for scientific computing with Python. Besides its obvious scientific uses, Numpy can also be used as an efficient multi-dimensional container of generic data.\n",
        "\n",
        "Key Features of Python NumPy:\n",
        "\n",
        "**Multidimensional Arrays**: Python NumPy supports arrays with different numbers of dimensions, enabling effective and versatile data management.\n",
        "\n",
        "**Broadcasting**: NumPy in Python supports broadcasting, a powerful and robust method for executing operations to arrays of various shapes and sizes.\n",
        "\n",
        "**Integration**: NumPy functions well with other Python scientific computing libraries like SciPy, Matplotib, and Pandas.\n",
        "\n",
        "**Mathematical Operations**: NumPy offers a variety of math operations, such as linear algebra functions, trigonometric functions, and fundamental arithmetic operations."
      ],
      "metadata": {
        "id": "AvmXH7Q2C0nc"
      }
    },
    {
      "cell_type": "code",
      "source": [
        "import numpy as np"
      ],
      "metadata": {
        "id": "pN-NE3lCC2lj"
      },
      "execution_count": 1,
      "outputs": []
    },
    {
      "cell_type": "code",
      "source": [
        "arr = np.array([1, 2, 3])\n",
        "print(\"Array with Rank 1: \\n\",arr)"
      ],
      "metadata": {
        "colab": {
          "base_uri": "https://localhost:8080/"
        },
        "id": "BUp0bycwDA-p",
        "outputId": "a223a19a-b46f-490a-9027-e1a17515812a"
      },
      "execution_count": 2,
      "outputs": [
        {
          "output_type": "stream",
          "name": "stdout",
          "text": [
            "Array with Rank 1: \n",
            " [1 2 3]\n"
          ]
        }
      ]
    },
    {
      "cell_type": "code",
      "source": [
        "arr = np.array([[1, 2, 3],\n",
        "                [4, 5, 6]])\n",
        "print(\"Array with Rank 2: \\n\", arr)"
      ],
      "metadata": {
        "colab": {
          "base_uri": "https://localhost:8080/"
        },
        "id": "QVcx2yfcDFdY",
        "outputId": "ae6bed00-76d6-4b8f-d5bc-39a0397b76d4"
      },
      "execution_count": 3,
      "outputs": [
        {
          "output_type": "stream",
          "name": "stdout",
          "text": [
            "Array with Rank 2: \n",
            " [[1 2 3]\n",
            " [4 5 6]]\n"
          ]
        }
      ]
    },
    {
      "cell_type": "code",
      "source": [
        "arr = np.array((1, 3, 2))\n",
        "print(\"\\nArray created using \"\n",
        "      \"passed tuple:\\n\", arr)"
      ],
      "metadata": {
        "colab": {
          "base_uri": "https://localhost:8080/"
        },
        "id": "8b6zFybPDJsA",
        "outputId": "b2ab8118-a1e4-4da9-d8e3-c1bc61680ed7"
      },
      "execution_count": 4,
      "outputs": [
        {
          "output_type": "stream",
          "name": "stdout",
          "text": [
            "\n",
            "Array created using passed tuple:\n",
            " [1 3 2]\n"
          ]
        }
      ]
    },
    {
      "cell_type": "markdown",
      "source": [
        "**2. SciPy**\n",
        "\n",
        "Scipy is a Python library useful for solving many mathematical equations and algorithms. It is designed on the top of Numpy library that gives more extension of finding scientific mathematical formulae like Matrix Rank, Inverse, polynomial equations, LU Decomposition, etc. Using its high-level functions will significantly reduce the complexity of the code and helps better in analyzing the data."
      ],
      "metadata": {
        "id": "0_ygO11FEHxM"
      }
    },
    {
      "cell_type": "code",
      "source": [
        "from scipy.optimize import root\n",
        "from math import cos\n"
      ],
      "metadata": {
        "id": "C-Ty7VtqE-Zs"
      },
      "execution_count": 9,
      "outputs": []
    },
    {
      "cell_type": "code",
      "source": [
        "def eqn(x):\n",
        "  return x + cos(x)"
      ],
      "metadata": {
        "id": "4CDrZu66Fy2t"
      },
      "execution_count": 10,
      "outputs": []
    },
    {
      "cell_type": "code",
      "source": [
        "myroot = root(eqn, 0)"
      ],
      "metadata": {
        "id": "MWVAitbbF2OD"
      },
      "execution_count": 11,
      "outputs": []
    },
    {
      "cell_type": "code",
      "source": [
        "print(myroot.x)"
      ],
      "metadata": {
        "colab": {
          "base_uri": "https://localhost:8080/"
        },
        "id": "ay-rrtQtF6ab",
        "outputId": "7bcd30cf-822c-48d5-9216-622e70bcd5f7"
      },
      "execution_count": 12,
      "outputs": [
        {
          "output_type": "stream",
          "name": "stdout",
          "text": [
            "[-0.73908513]\n"
          ]
        }
      ]
    },
    {
      "cell_type": "markdown",
      "source": [
        "R LIBRARIES:\n",
        "\n",
        "**1.dplyr**\n",
        "\n",
        "The dplyr package is one of the most powerful and popular package in R. This package was written by the most popular R programmer Hadley Wickham who has written many useful R packages such as ggplot2, tidyr etc."
      ],
      "metadata": {
        "id": "omrtXSnSGSLE"
      }
    },
    {
      "cell_type": "code",
      "source": [
        "install.packages(\"dplyr\")"
      ],
      "metadata": {
        "colab": {
          "base_uri": "https://localhost:8080/"
        },
        "id": "9BYr-JXIJH9_",
        "outputId": "2864b20c-a28e-4147-d9ce-b5bd1f36ad13"
      },
      "execution_count": 8,
      "outputs": [
        {
          "output_type": "stream",
          "name": "stderr",
          "text": [
            "Installing package into ‘/usr/local/lib/R/site-library’\n",
            "(as ‘lib’ is unspecified)\n",
            "\n"
          ]
        }
      ]
    },
    {
      "cell_type": "code",
      "source": [
        "library(dplyr)"
      ],
      "metadata": {
        "colab": {
          "base_uri": "https://localhost:8080/"
        },
        "id": "1Dq0vPLxJPR8",
        "outputId": "26dabbed-66b9-4eb4-a33e-eea3d86e1c30"
      },
      "execution_count": 9,
      "outputs": [
        {
          "output_type": "stream",
          "name": "stderr",
          "text": [
            "\n",
            "Attaching package: ‘dplyr’\n",
            "\n",
            "\n",
            "The following objects are masked from ‘package:stats’:\n",
            "\n",
            "    filter, lag\n",
            "\n",
            "\n",
            "The following objects are masked from ‘package:base’:\n",
            "\n",
            "    intersect, setdiff, setequal, union\n",
            "\n",
            "\n"
          ]
        }
      ]
    },
    {
      "cell_type": "code",
      "source": [
        "mydata = read.csv(\"https://raw.githubusercontent.com/deepanshu88/data/master/sampledata.csv\")"
      ],
      "metadata": {
        "id": "VNUOFn99G1xT"
      },
      "execution_count": 10,
      "outputs": []
    },
    {
      "cell_type": "code",
      "source": [
        "sample_n(mydata,3)"
      ],
      "metadata": {
        "colab": {
          "base_uri": "https://localhost:8080/",
          "height": 192
        },
        "id": "hGHCfG5lH4Pz",
        "outputId": "b3969f83-3c5c-489d-c080-ace0eb91c304"
      },
      "execution_count": 11,
      "outputs": [
        {
          "output_type": "display_data",
          "data": {
            "text/html": [
              "<table class=\"dataframe\">\n",
              "<caption>A data.frame: 3 × 16</caption>\n",
              "<thead>\n",
              "\t<tr><th scope=col>Index</th><th scope=col>State</th><th scope=col>Y2002</th><th scope=col>Y2003</th><th scope=col>Y2004</th><th scope=col>Y2005</th><th scope=col>Y2006</th><th scope=col>Y2007</th><th scope=col>Y2008</th><th scope=col>Y2009</th><th scope=col>Y2010</th><th scope=col>Y2011</th><th scope=col>Y2012</th><th scope=col>Y2013</th><th scope=col>Y2014</th><th scope=col>Y2015</th></tr>\n",
              "\t<tr><th scope=col>&lt;chr&gt;</th><th scope=col>&lt;chr&gt;</th><th scope=col>&lt;int&gt;</th><th scope=col>&lt;int&gt;</th><th scope=col>&lt;int&gt;</th><th scope=col>&lt;int&gt;</th><th scope=col>&lt;int&gt;</th><th scope=col>&lt;int&gt;</th><th scope=col>&lt;int&gt;</th><th scope=col>&lt;int&gt;</th><th scope=col>&lt;int&gt;</th><th scope=col>&lt;int&gt;</th><th scope=col>&lt;int&gt;</th><th scope=col>&lt;int&gt;</th><th scope=col>&lt;int&gt;</th><th scope=col>&lt;int&gt;</th></tr>\n",
              "</thead>\n",
              "<tbody>\n",
              "\t<tr><td>C</td><td>California</td><td>1685349</td><td>1675807</td><td>1889570</td><td>1480280</td><td>1735069</td><td>1812546</td><td>1487315</td><td>1663809</td><td>1624509</td><td>1639670</td><td>1921845</td><td>1156536</td><td>1388461</td><td>1644607</td></tr>\n",
              "\t<tr><td>N</td><td>New York  </td><td>1395149</td><td>1611371</td><td>1170675</td><td>1446810</td><td>1426941</td><td>1463171</td><td>1732098</td><td>1426216</td><td>1604531</td><td>1683687</td><td>1500089</td><td>1718837</td><td>1619033</td><td>1367705</td></tr>\n",
              "\t<tr><td>M</td><td>Missouri  </td><td>1221316</td><td>1858368</td><td>1773451</td><td>1573967</td><td>1374863</td><td>1486197</td><td>1735099</td><td>1800620</td><td>1164202</td><td>1425363</td><td>1800052</td><td>1698105</td><td>1767835</td><td>1996005</td></tr>\n",
              "</tbody>\n",
              "</table>\n"
            ],
            "text/markdown": "\nA data.frame: 3 × 16\n\n| Index &lt;chr&gt; | State &lt;chr&gt; | Y2002 &lt;int&gt; | Y2003 &lt;int&gt; | Y2004 &lt;int&gt; | Y2005 &lt;int&gt; | Y2006 &lt;int&gt; | Y2007 &lt;int&gt; | Y2008 &lt;int&gt; | Y2009 &lt;int&gt; | Y2010 &lt;int&gt; | Y2011 &lt;int&gt; | Y2012 &lt;int&gt; | Y2013 &lt;int&gt; | Y2014 &lt;int&gt; | Y2015 &lt;int&gt; |\n|---|---|---|---|---|---|---|---|---|---|---|---|---|---|---|---|\n| C | California | 1685349 | 1675807 | 1889570 | 1480280 | 1735069 | 1812546 | 1487315 | 1663809 | 1624509 | 1639670 | 1921845 | 1156536 | 1388461 | 1644607 |\n| N | New York   | 1395149 | 1611371 | 1170675 | 1446810 | 1426941 | 1463171 | 1732098 | 1426216 | 1604531 | 1683687 | 1500089 | 1718837 | 1619033 | 1367705 |\n| M | Missouri   | 1221316 | 1858368 | 1773451 | 1573967 | 1374863 | 1486197 | 1735099 | 1800620 | 1164202 | 1425363 | 1800052 | 1698105 | 1767835 | 1996005 |\n\n",
            "text/latex": "A data.frame: 3 × 16\n\\begin{tabular}{llllllllllllllll}\n Index & State & Y2002 & Y2003 & Y2004 & Y2005 & Y2006 & Y2007 & Y2008 & Y2009 & Y2010 & Y2011 & Y2012 & Y2013 & Y2014 & Y2015\\\\\n <chr> & <chr> & <int> & <int> & <int> & <int> & <int> & <int> & <int> & <int> & <int> & <int> & <int> & <int> & <int> & <int>\\\\\n\\hline\n\t C & California & 1685349 & 1675807 & 1889570 & 1480280 & 1735069 & 1812546 & 1487315 & 1663809 & 1624509 & 1639670 & 1921845 & 1156536 & 1388461 & 1644607\\\\\n\t N & New York   & 1395149 & 1611371 & 1170675 & 1446810 & 1426941 & 1463171 & 1732098 & 1426216 & 1604531 & 1683687 & 1500089 & 1718837 & 1619033 & 1367705\\\\\n\t M & Missouri   & 1221316 & 1858368 & 1773451 & 1573967 & 1374863 & 1486197 & 1735099 & 1800620 & 1164202 & 1425363 & 1800052 & 1698105 & 1767835 & 1996005\\\\\n\\end{tabular}\n",
            "text/plain": [
              "  Index State      Y2002   Y2003   Y2004   Y2005   Y2006   Y2007   Y2008  \n",
              "1 C     California 1685349 1675807 1889570 1480280 1735069 1812546 1487315\n",
              "2 N     New York   1395149 1611371 1170675 1446810 1426941 1463171 1732098\n",
              "3 M     Missouri   1221316 1858368 1773451 1573967 1374863 1486197 1735099\n",
              "  Y2009   Y2010   Y2011   Y2012   Y2013   Y2014   Y2015  \n",
              "1 1663809 1624509 1639670 1921845 1156536 1388461 1644607\n",
              "2 1426216 1604531 1683687 1500089 1718837 1619033 1367705\n",
              "3 1800620 1164202 1425363 1800052 1698105 1767835 1996005"
            ]
          },
          "metadata": {}
        }
      ]
    },
    {
      "cell_type": "code",
      "source": [
        "x1 = distinct(mydata)"
      ],
      "metadata": {
        "id": "ho4JmaOPJlML"
      },
      "execution_count": 12,
      "outputs": []
    },
    {
      "cell_type": "code",
      "source": [
        "x2 = distinct(mydata, Index, .keep_all= TRUE)"
      ],
      "metadata": {
        "id": "n47mt39TJwTa"
      },
      "execution_count": 13,
      "outputs": []
    },
    {
      "cell_type": "code",
      "source": [
        "mydata2 = select(mydata, Index, State:Y2008)"
      ],
      "metadata": {
        "id": "HioTYRIVJ73b"
      },
      "execution_count": 14,
      "outputs": []
    },
    {
      "cell_type": "markdown",
      "source": [
        "**2.tidyr**\n",
        "\n",
        "\n",
        "tidyr is a data wrangling package in the R programming language that belongs to the larger tidyverse ecosystem. It provides a set of functions for tidying and reshaping datasets, making them more amenable to analysis and visualization. The primary focus of tidyr is on transforming data into a tidy format, as defined by Hadley Wickham's principles of tidy data."
      ],
      "metadata": {
        "id": "j2p0H8HCKdhd"
      }
    },
    {
      "cell_type": "code",
      "source": [
        "install.packages(\"tidyverse\")"
      ],
      "metadata": {
        "colab": {
          "base_uri": "https://localhost:8080/"
        },
        "id": "YeBUC_BLKlm2",
        "outputId": "f6eeecfe-37b4-4de4-ceaa-0b61de82a139"
      },
      "execution_count": 15,
      "outputs": [
        {
          "output_type": "stream",
          "name": "stderr",
          "text": [
            "Installing package into ‘/usr/local/lib/R/site-library’\n",
            "(as ‘lib’ is unspecified)\n",
            "\n"
          ]
        }
      ]
    },
    {
      "cell_type": "code",
      "source": [
        "library(tidyverse)\n",
        "\n",
        "data <- data.frame(\n",
        "  ID = c(1, 2, 3),\n",
        "  Name = c(\"Alice\", \"Bob\", \"Charlie\"),\n",
        "  Test1 = c(85, 90, 78),\n",
        "  Test2 = c(92, 88, 95)\n",
        ")\n",
        "\n",
        "print(\"Original Data:\")\n",
        "print(data)\n",
        "\n",
        "data_long <- data %>%\n",
        "  gather(key = \"Test\", value = \"Score\", Test1, Test2)\n",
        "\n",
        "print(\"\\nReshaped Data:\")\n",
        "print(data_long)\n"
      ],
      "metadata": {
        "colab": {
          "base_uri": "https://localhost:8080/"
        },
        "id": "quKNz5cxLfaE",
        "outputId": "fa2cec6e-8f62-4367-ae5f-fcfed8530c72"
      },
      "execution_count": 17,
      "outputs": [
        {
          "output_type": "stream",
          "name": "stdout",
          "text": [
            "[1] \"Original Data:\"\n",
            "  ID    Name Test1 Test2\n",
            "1  1   Alice    85    92\n",
            "2  2     Bob    90    88\n",
            "3  3 Charlie    78    95\n",
            "[1] \"\\nReshaped Data:\"\n",
            "  ID    Name  Test Score\n",
            "1  1   Alice Test1    85\n",
            "2  2     Bob Test1    90\n",
            "3  3 Charlie Test1    78\n",
            "4  1   Alice Test2    92\n",
            "5  2     Bob Test2    88\n",
            "6  3 Charlie Test2    95\n"
          ]
        }
      ]
    },
    {
      "cell_type": "markdown",
      "source": [],
      "metadata": {
        "id": "aiM2ELm5DM_7"
      }
    }
  ]
}