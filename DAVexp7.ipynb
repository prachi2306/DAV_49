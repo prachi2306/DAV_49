{
  "nbformat": 4,
  "nbformat_minor": 0,
  "metadata": {
    "colab": {
      "provenance": []
    },
    "kernelspec": {
      "name": "ir",
      "display_name": "R"
    },
    "language_info": {
      "name": "R"
    }
  },
  "cells": [
    {
      "cell_type": "markdown",
      "source": [
        "# **Experiment - 7: Perform the steps involved in Text Analytics in Python & R**"
      ],
      "metadata": {
        "id": "uMdRK-8HVwY0"
      }
    },
    {
      "cell_type": "markdown",
      "source": [
        "**Lab Outcomes (LO):Design Text Analytics Application on a given data set. (LO4)**\n",
        "\n",
        "\n",
        "**Task to be performed :**\n",
        "\n",
        "1)Explore Top-5 Text Analytics Libraries in Python (w.r.t Features & Applications)\n",
        "\n",
        "2)Explore Top-5 Text Analytics Libraries in R (w.r.t Features & Applications)\n",
        "\n",
        "3)Perform the following experiments using Python & R\n",
        "Tokenization (Sentence & Word)\n",
        "\n",
        "4)Frequency Distribution\n",
        "\n",
        "5)Remove stopwords & punctuations\n",
        "\n",
        "6)Lexicon Normalization (Stemming, Lemmatization)\n",
        "\n",
        "7)Part of Speech tagging\n",
        "\n",
        "8)Named Entity Recognization\n",
        "\n",
        "9)Scrape data from a website"
      ],
      "metadata": {
        "id": "Nfms1_w8SXJG"
      }
    },
    {
      "cell_type": "markdown",
      "source": [
        "**Tools & Libraries to be explored**\n",
        "\n",
        "Python Libraries: nltk, scattertext, SpaCy, TextBlob, sklearn, pandas, numpy\n",
        "\n",
        "R Libraries: shiny, tm, quanteda"
      ],
      "metadata": {
        "id": "UWdD3syiTFPi"
      }
    },
    {
      "cell_type": "markdown",
      "source": [
        "**PYTHON**\n",
        "\n",
        "**1. NLTK (Natural Language Toolkit):**\n",
        "   - Features:\n",
        "     - NLTK provides easy-to-use interfaces and lexical resources for tasks such as classification, tokenization, stemming, tagging, parsing, and semantic reasoning.\n",
        "     - It offers support for a wide variety of natural language processing (NLP) tasks.\n",
        "   - Applications:\n",
        "     - NLTK is commonly used for text classification, sentiment analysis, part-of-speech tagging, named entity recognition, and language translation tasks.\n",
        "\n",
        "**2. spaCy:**\n",
        "   - Features:\n",
        "     - spaCy is designed for efficient NLP processing with pre-trained models and easy-to-use APIs.\n",
        "     - It provides support for tokenization, part-of-speech tagging, named entity recognition, dependency parsing, and sentence segmentation.\n",
        "     - spaCy is known for its speed and accuracy in processing large volumes of text.\n",
        "   - Applications:\n",
        "     - Named entity recognition, information extraction, text classification, dependency parsing, and language understanding are common applications of spaCy.\n",
        "\n",
        "**3. TextBlob:**\n",
        "   - Features:\n",
        "     - TextBlob is built on top of NLTK and provides a simple API for common NLP tasks.\n",
        "     - It offers sentiment analysis, part-of-speech tagging, noun phrase extraction, classification, translation, and more.\n",
        "   - Applications:\n",
        "     - TextBlob is often used for sentiment analysis, text classification, language translation, and parts-of-speech tagging in applications such as social media monitoring and customer feedback analysis.\n",
        "\n",
        "**4. Gensim:**\n",
        "   - Features:\n",
        "     - Gensim specializes in topic modeling and document similarity analysis.\n",
        "     - It provides implementations of algorithms like Latent Semantic Analysis (LSA), Latent Dirichlet Allocation (LDA), and Word2Vec.\n",
        "     - Gensim is efficient in handling large corpora and can scale to process extensive text data.\n",
        "   - Applications:\n",
        "     - Topic modeling, document similarity analysis, document clustering, and word embedding are common applications of Gensim. It is often used in information retrieval, content recommendation systems, and document summarization.\n",
        "\n",
        "**5. scikit-learn:**\n",
        "   - Features:\n",
        "     - While not exclusively an NLP library, scikit-learn offers tools for text processing and feature extraction.\n",
        "     - It includes algorithms for text classification, clustering, and feature extraction.\n",
        "     - scikit-learn integrates well with other Python libraries such as NLTK and Gensim.\n",
        "   - Applications:\n",
        "     - Text classification, sentiment analysis, document clustering, and feature extraction are common applications of scikit-learn in the context of text analytics and machine learning.\n",
        "\n",
        "These libraries provide powerful tools for processing and analyzing text data, enabling developers and researchers to build a wide range of NLP applications."
      ],
      "metadata": {
        "id": "xroiso5aS9iI"
      }
    },
    {
      "cell_type": "code",
      "execution_count": null,
      "metadata": {
        "id": "li-UgDfcGtVK"
      },
      "outputs": [],
      "source": [
        "import pandas as pd\n",
        "import numpy as np\n",
        "import nltk\n",
        "import os\n",
        "import nltk.corpus"
      ]
    },
    {
      "cell_type": "code",
      "source": [
        "text = \"There are multiple ways we can perform tokenization on given text data. We can choose any method based on langauge, library and purpose of modeling.\""
      ],
      "metadata": {
        "id": "vhxfh-zHKKs0"
      },
      "execution_count": null,
      "outputs": []
    },
    {
      "cell_type": "code",
      "source": [
        "from nltk.tokenize import word_tokenize\n",
        "nltk.download('punkt')"
      ],
      "metadata": {
        "colab": {
          "base_uri": "https://localhost:8080/"
        },
        "id": "2ALaxYuqKPdM",
        "outputId": "ec47b0cf-4475-41a6-82b2-8515fcbe1b4b"
      },
      "execution_count": null,
      "outputs": [
        {
          "output_type": "stream",
          "name": "stderr",
          "text": [
            "[nltk_data] Downloading package punkt to /root/nltk_data...\n",
            "[nltk_data]   Unzipping tokenizers/punkt.zip.\n"
          ]
        },
        {
          "output_type": "execute_result",
          "data": {
            "text/plain": [
              "True"
            ]
          },
          "metadata": {},
          "execution_count": 3
        }
      ]
    },
    {
      "cell_type": "markdown",
      "source": [
        "Word tokenization"
      ],
      "metadata": {
        "id": "RJ5TKSlxLpnz"
      }
    },
    {
      "cell_type": "code",
      "source": [
        "token = word_tokenize(text)\n",
        "token"
      ],
      "metadata": {
        "colab": {
          "base_uri": "https://localhost:8080/"
        },
        "id": "Ca58LpfqKTPa",
        "outputId": "f0d8fde5-f36d-44d7-9d65-2ff77ba935b8"
      },
      "execution_count": null,
      "outputs": [
        {
          "output_type": "execute_result",
          "data": {
            "text/plain": [
              "['There',\n",
              " 'are',\n",
              " 'multiple',\n",
              " 'ways',\n",
              " 'we',\n",
              " 'can',\n",
              " 'perform',\n",
              " 'tokenization',\n",
              " 'on',\n",
              " 'given',\n",
              " 'text',\n",
              " 'data',\n",
              " '.',\n",
              " 'We',\n",
              " 'can',\n",
              " 'choose',\n",
              " 'any',\n",
              " 'method',\n",
              " 'based',\n",
              " 'on',\n",
              " 'langauge',\n",
              " ',',\n",
              " 'library',\n",
              " 'and',\n",
              " 'purpose',\n",
              " 'of',\n",
              " 'modeling',\n",
              " '.']"
            ]
          },
          "metadata": {},
          "execution_count": 4
        }
      ]
    },
    {
      "cell_type": "markdown",
      "source": [
        "Sentence tokenization"
      ],
      "metadata": {
        "id": "patVEGXeLlMk"
      }
    },
    {
      "cell_type": "code",
      "source": [
        "text = \"\"\"There are multiple ways we can perform tokenization on given text data. We can choose any method based on langauge, library and purpose of modeling.\"\"\"\n",
        "text.split(\". \")"
      ],
      "metadata": {
        "colab": {
          "base_uri": "https://localhost:8080/"
        },
        "id": "QmLSvDWHKoE1",
        "outputId": "45c36185-b77e-4748-b2ae-1de02f8cd7a2"
      },
      "execution_count": null,
      "outputs": [
        {
          "output_type": "execute_result",
          "data": {
            "text/plain": [
              "['There are multiple ways we can perform tokenization on given text data',\n",
              " 'We can choose any method based on langauge, library and purpose of modeling.']"
            ]
          },
          "metadata": {},
          "execution_count": 6
        }
      ]
    },
    {
      "cell_type": "markdown",
      "source": [
        "Frequency Distribution"
      ],
      "metadata": {
        "id": "KLMdIaWQLtbb"
      }
    },
    {
      "cell_type": "code",
      "source": [
        "from nltk.probability import FreqDist\n",
        "import matplotlib.pyplot as plt\n",
        "fdist = FreqDist(token)\n",
        "fdist.plot()\n",
        "plt.show()"
      ],
      "metadata": {
        "colab": {
          "base_uri": "https://localhost:8080/",
          "height": 521
        },
        "id": "VPJ1guKOK_ME",
        "outputId": "8fb35b99-68e0-4de7-eb3f-359d38b955c3"
      },
      "execution_count": null,
      "outputs": [
        {
          "output_type": "display_data",
          "data": {
            "text/plain": [
              "<Figure size 640x480 with 1 Axes>"
            ],
            "image/png": "[encoded data removed]"
          },
          "metadata": {}
        }
      ]
    },
    {
      "cell_type": "markdown",
      "source": [
        "Remove stopwords & punctuations"
      ],
      "metadata": {
        "id": "36OQKwi8MYUy"
      }
    },
    {
      "cell_type": "markdown",
      "source": [
        "stopwords:"
      ],
      "metadata": {
        "id": "2FASc_B3RMGa"
      }
    },
    {
      "cell_type": "code",
      "source": [
        "import spacy\n",
        "nlp = spacy.load(\"en_core_web_sm\")\n",
        "text = \"There are multiple ways we can perform tokenization on given text data. We can choose any method based on langauge, library and purpose of modeling.\"\n",
        "doc = nlp(text)\n",
        "filtered_words = [token.text for token in doc if not token.is_stop]\n",
        "clean_text = ' '.join(filtered_words)\n",
        "print(\"Original Text:\", text)\n",
        "print(\"Text after Stopword Removal:\", clean_text)\n"
      ],
      "metadata": {
        "colab": {
          "base_uri": "https://localhost:8080/"
        },
        "id": "s0BkoXYKMCht",
        "outputId": "7ab39715-81ba-4520-bb34-73cb80ba5c6a"
      },
      "execution_count": null,
      "outputs": [
        {
          "output_type": "stream",
          "name": "stdout",
          "text": [
            "Original Text: There are multiple ways we can perform tokenization on given text data. We can choose any method based on langauge, library and purpose of modeling.\n",
            "Text after Stopword Removal: multiple ways perform tokenization given text data . choose method based langauge , library purpose modeling .\n"
          ]
        }
      ]
    },
    {
      "cell_type": "markdown",
      "source": [
        "punctuations:"
      ],
      "metadata": {
        "id": "hMlV2jl6RSWK"
      }
    },
    {
      "cell_type": "code",
      "source": [
        "import re\n",
        "py_str1 = \"There are multiple ways% we can@ perform tokenization on && given text data. We can choose any method based on langauge, library and purpose of modeling.\"\n",
        "py_opstr1 = re.sub(r'[^\\w\\s]','',py_str1)\n",
        "print ('String: ', py_str1)\n",
        "print ('Without punctuation string: ', py_opstr1)"
      ],
      "metadata": {
        "colab": {
          "base_uri": "https://localhost:8080/"
        },
        "id": "f2AiyNgLM8Oy",
        "outputId": "11b0df5b-f35d-4953-cee3-5d03e8586526"
      },
      "execution_count": null,
      "outputs": [
        {
          "output_type": "stream",
          "name": "stdout",
          "text": [
            "String:  There are multiple ways% we can@ perform tokenization on && given text data. We can choose any method based on langauge, library and purpose of modeling.\n",
            "Without punctuation string:  There are multiple ways we can perform tokenization on  given text data We can choose any method based on langauge library and purpose of modeling\n"
          ]
        }
      ]
    },
    {
      "cell_type": "markdown",
      "source": [
        "Stemming"
      ],
      "metadata": {
        "id": "bffd9YaFQiRT"
      }
    },
    {
      "cell_type": "code",
      "source": [
        "import nltk\n",
        "nltk.download('stopwords')\n",
        "nltk.download('punkt')\n",
        "from nltk.corpus import stopwords\n",
        "from nltk.stem import PorterStemmer"
      ],
      "metadata": {
        "colab": {
          "base_uri": "https://localhost:8080/"
        },
        "id": "w-S1-58nPrTM",
        "outputId": "6b861df5-2612-4585-f3e8-6ca32a7fe453"
      },
      "execution_count": null,
      "outputs": [
        {
          "output_type": "stream",
          "name": "stderr",
          "text": [
            "[nltk_data] Downloading package stopwords to /root/nltk_data...\n",
            "[nltk_data]   Unzipping corpora/stopwords.zip.\n",
            "[nltk_data] Downloading package punkt to /root/nltk_data...\n",
            "[nltk_data]   Package punkt is already up-to-date!\n"
          ]
        }
      ]
    },
    {
      "cell_type": "code",
      "source": [
        "paragraph = \"\"\"\n",
        "    There are multiple ways we can perform tokenization on given text data. We can choose any method based on langauge, library and purpose of modeling.\n",
        "    \"\"\""
      ],
      "metadata": {
        "id": "h1ZDWhk3PtLL"
      },
      "execution_count": null,
      "outputs": []
    },
    {
      "cell_type": "code",
      "source": [
        "sentences = nltk.sent_tokenize(paragraph)\n",
        "print(sentences)"
      ],
      "metadata": {
        "colab": {
          "base_uri": "https://localhost:8080/"
        },
        "id": "KCjbqw6bP2yU",
        "outputId": "4411c454-2605-4ff8-8314-e472b17dd382"
      },
      "execution_count": null,
      "outputs": [
        {
          "output_type": "stream",
          "name": "stdout",
          "text": [
            "['\\n    There are multiple ways we can perform tokenization on given text data.', 'We can choose any method based on langauge, library and purpose of modeling.']\n"
          ]
        }
      ]
    },
    {
      "cell_type": "markdown",
      "source": [
        "Lemmatization"
      ],
      "metadata": {
        "id": "DB6EXkr_QdXK"
      }
    },
    {
      "cell_type": "code",
      "source": [
        "nltk.download('wordnet')\n",
        "from nltk.stem import WordNetLemmatizer"
      ],
      "metadata": {
        "colab": {
          "base_uri": "https://localhost:8080/"
        },
        "id": "xUQn-e8zQHaa",
        "outputId": "281c96c2-2227-4447-b996-d1fa9bc0b3a3"
      },
      "execution_count": null,
      "outputs": [
        {
          "output_type": "stream",
          "name": "stderr",
          "text": [
            "[nltk_data] Downloading package wordnet to /root/nltk_data...\n",
            "[nltk_data]   Package wordnet is already up-to-date!\n"
          ]
        }
      ]
    },
    {
      "cell_type": "code",
      "source": [
        "lemmatizer = WordNetLemmatizer()\n",
        "\n",
        "for i in range(len(sentences)):\n",
        "    words = nltk.word_tokenize(sentences[i])\n",
        "    words = [lemmatizer.lemmatize(word) for word in words if word not in set(stopwords.words('english'))]\n",
        "    sentences[i] = ' '.join(words)"
      ],
      "metadata": {
        "id": "7MHX1rs8P_pL"
      },
      "execution_count": null,
      "outputs": []
    },
    {
      "cell_type": "code",
      "source": [
        "print(sentences)"
      ],
      "metadata": {
        "colab": {
          "base_uri": "https://localhost:8080/"
        },
        "id": "RqZbMbPIQX8z",
        "outputId": "8db10d78-75b5-470a-d594-8c6ab89a264b"
      },
      "execution_count": null,
      "outputs": [
        {
          "output_type": "stream",
          "name": "stdout",
          "text": [
            "['There multiple way perform tokenization given text data .', 'We choose method based langauge , library purpose modeling .']\n"
          ]
        }
      ]
    },
    {
      "cell_type": "markdown",
      "source": [
        "Part of Speech tagging"
      ],
      "metadata": {
        "id": "D5O5i7N3TYEt"
      }
    },
    {
      "cell_type": "code",
      "source": [
        "nltk.download('averaged_perceptron_tagger')"
      ],
      "metadata": {
        "colab": {
          "base_uri": "https://localhost:8080/"
        },
        "id": "1pRIuUabSiyc",
        "outputId": "48e739d5-b269-4a87-969f-ad0b53db0d67"
      },
      "execution_count": null,
      "outputs": [
        {
          "output_type": "stream",
          "name": "stderr",
          "text": [
            "[nltk_data] Downloading package averaged_perceptron_tagger to\n",
            "[nltk_data]     /root/nltk_data...\n",
            "[nltk_data]   Package averaged_perceptron_tagger is already up-to-\n",
            "[nltk_data]       date!\n"
          ]
        },
        {
          "output_type": "execute_result",
          "data": {
            "text/plain": [
              "True"
            ]
          },
          "metadata": {},
          "execution_count": 35
        }
      ]
    },
    {
      "cell_type": "code",
      "source": [
        "import nltk\n",
        "from nltk.tokenize import word_tokenize\n",
        "from nltk import pos_tag"
      ],
      "metadata": {
        "id": "-lIBAtPzSmes"
      },
      "execution_count": null,
      "outputs": []
    },
    {
      "cell_type": "code",
      "source": [
        "text = \"There are multiple ways we can perform tokenization on given text data. We can choose any method based on langauge, library and purpose of modeling.\""
      ],
      "metadata": {
        "id": "6_SR-SPKSrFj"
      },
      "execution_count": null,
      "outputs": []
    },
    {
      "cell_type": "code",
      "source": [
        "pos_tags = pos_tag(words)"
      ],
      "metadata": {
        "id": "pPXVYYPHS2Jt"
      },
      "execution_count": null,
      "outputs": []
    },
    {
      "cell_type": "code",
      "source": [
        "print(\"Original Text:\")\n",
        "print(text)\n",
        "\n",
        "print(\"\\nPoS Tagging Result:\")\n",
        "for word, pos_tag in pos_tags:\n",
        "    print(f\"{word}: {pos_tag}\")"
      ],
      "metadata": {
        "colab": {
          "base_uri": "https://localhost:8080/"
        },
        "id": "rQdzHtVzS5DL",
        "outputId": "c07bc30d-6726-4ad4-e11e-bcd40fc98355"
      },
      "execution_count": null,
      "outputs": [
        {
          "output_type": "stream",
          "name": "stdout",
          "text": [
            "Original Text:\n",
            "There are multiple ways we can perform tokenization on given text data. We can choose any method based on langauge, library and purpose of modeling.\n",
            "\n",
            "PoS Tagging Result:\n",
            "We: PRP\n",
            "choose: VBP\n",
            "method: NNS\n",
            "based: VBN\n",
            "langauge: NN\n",
            ",: ,\n",
            "library: JJ\n",
            "purpose: NN\n",
            "modeling: NN\n",
            ".: .\n"
          ]
        }
      ]
    },
    {
      "cell_type": "markdown",
      "source": [
        "Named Entity Recognization"
      ],
      "metadata": {
        "id": "gyoG1Hq-ZXAa"
      }
    },
    {
      "cell_type": "code",
      "source": [
        "import pandas as pd\n",
        "import spacy\n",
        "import requests\n",
        "from bs4 import BeautifulSoup\n",
        "nlp = spacy.load(\"en_core_web_sm\")\n",
        "pd.set_option(\"display.max_rows\", 200)"
      ],
      "metadata": {
        "id": "C3S7lJi9YmTV"
      },
      "execution_count": null,
      "outputs": []
    },
    {
      "cell_type": "code",
      "source": [
        "content = \"Trinamool Congress leader Mahua Moitra has moved the Supreme Court against her expulsion from the Lok Sabha over the cash-for-query allegations against her. Moitra was ousted from the Parliament last week after the Ethics Committee of the Lok Sabha found her guilty of jeopardising national security by sharing her parliamentary portal's login credentials with businessman Darshan Hiranandani.\"\n",
        "\n",
        "doc = nlp(content)\n",
        "\n",
        "for ent in doc.ents:\n",
        "    print(ent.text, ent.start_char, ent.end_char, ent.label_)"
      ],
      "metadata": {
        "colab": {
          "base_uri": "https://localhost:8080/"
        },
        "id": "Ukfa63kPY4l6",
        "outputId": "2eabfb86-9d69-46ce-aa08-b5f240a47bfb"
      },
      "execution_count": null,
      "outputs": [
        {
          "output_type": "stream",
          "name": "stdout",
          "text": [
            "Congress 10 18 ORG\n",
            "Mahua Moitra 26 38 PERSON\n",
            "the Supreme Court 49 66 ORG\n",
            "the Lok Sabha 94 107 PERSON\n",
            "Moitra 157 163 ORG\n",
            "Parliament 184 194 ORG\n",
            "last week 195 204 DATE\n",
            "the Ethics Committee 211 231 ORG\n",
            "Darshan Hiranandani 373 392 PERSON\n"
          ]
        }
      ]
    },
    {
      "cell_type": "markdown",
      "source": [
        "**IMPLEMENTATION IN R**"
      ],
      "metadata": {
        "id": "5qJNjKDRZcC0"
      }
    },
    {
      "cell_type": "markdown",
      "source": [
        "\n",
        "\n",
        "1. **tm (Text Mining Infrastructure in R)**:\n",
        "   - **Features**: tm provides a framework for text mining applications within R. It offers various functions for text preprocessing, term-document matrix creation, and text analysis.\n",
        "   - **Applications**: tm is widely used for tasks such as document classification, sentiment analysis, topic modeling, and text clustering. It's particularly useful for analyzing large collections of textual data.\n",
        "\n",
        "2. **quanteda**:\n",
        "   - **Features**: quanteda is a fast and flexible R package for text analysis. It offers functionalities for text preprocessing, corpus management, and various text analysis methods.\n",
        "   - **Applications**: quanteda is commonly used for quantitative text analysis, including but not limited to sentiment analysis, text classification, content analysis, and network analysis of textual data.\n",
        "\n",
        "3. **text2vec**:\n",
        "   - **Features**: text2vec is an R package designed for text mining and natural language processing tasks. It provides efficient implementations of text processing algorithms suitable for large text datasets.\n",
        "   - **Applications**: text2vec is useful for tasks such as word embeddings, document similarity analysis, text classification, and topic modeling. It's particularly efficient for dealing with large-scale text data due to its vectorized implementations.\n",
        "\n",
        "4. **RWeka**:\n",
        "   - **Features**: RWeka is an R interface to Weka, a popular machine learning library in Java. It provides access to a wide range of machine learning algorithms, including those for text classification and clustering.\n",
        "   - **Applications**: RWeka can be used for various text mining tasks such as text classification, text clustering, and association rule mining. It allows R users to leverage the extensive set of machine learning algorithms available in Weka for text analysis.\n",
        "\n",
        "5. **textmineR**:\n",
        "   - **Features**: textmineR is an R package specifically designed for text mining tasks. It offers functions for text preprocessing, term frequency analysis, and text visualization.\n",
        "   - **Applications**: textmineR is suitable for tasks such as text summarization, keyword extraction, document clustering, and text visualization. It provides a user-friendly interface for conducting various text mining operations in R.\n"
      ],
      "metadata": {
        "id": "c3nvAgTsaYxi"
      }
    },
    {
      "cell_type": "code",
      "source": [
        "install.packages(\"tokenizers\")\n",
        "install.packages(\"tm\")"
      ],
      "metadata": {
        "colab": {
          "base_uri": "https://localhost:8080/"
        },
        "id": "6nZNgmA1QRAc",
        "outputId": "8e852d3f-193e-4896-b8e2-45fc13f6e5b4"
      },
      "execution_count": null,
      "outputs": [
        {
          "output_type": "stream",
          "name": "stderr",
          "text": [
            "Installing package into ‘/usr/local/lib/R/site-library’\n",
            "(as ‘lib’ is unspecified)\n",
            "\n",
            "Installing package into ‘/usr/local/lib/R/site-library’\n",
            "(as ‘lib’ is unspecified)\n",
            "\n"
          ]
        }
      ]
    },
    {
      "cell_type": "code",
      "source": [
        "library(tokenizers)\n",
        "\n",
        "text <- readline(prompt = \"Enter text: \")\n",
        "\n",
        "word_tokens <- unlist(tokenize_words(text))\n",
        "sentence_tokens <- unlist(tokenize_sentences(text))\n",
        "\n",
        "cat(\"\\nTokenized words:\\n\")\n",
        "print(word_tokens)\n",
        "\n",
        "cat(\"\\nTokenized sentences:\\n\")\n",
        "print(sentence_tokens)"
      ],
      "metadata": {
        "colab": {
          "base_uri": "https://localhost:8080/"
        },
        "id": "sxbYCRbkRfhO",
        "outputId": "c9baef52-15ed-4542-f53c-7824b5b03508"
      },
      "execution_count": null,
      "outputs": [
        {
          "output_type": "stream",
          "name": "stdout",
          "text": [
            "Enter text: There are multiple ways we can perform tokenization on given text data. We can choose any method based on langauge, library and purpose of modeling.\n",
            "\n",
            "Tokenized words:\n",
            " [1] \"there\"        \"are\"          \"multiple\"     \"ways\"         \"we\"          \n",
            " [6] \"can\"          \"perform\"      \"tokenization\" \"on\"           \"given\"       \n",
            "[11] \"text\"         \"data\"         \"we\"           \"can\"          \"choose\"      \n",
            "[16] \"any\"          \"method\"       \"based\"        \"on\"           \"langauge\"    \n",
            "[21] \"library\"      \"and\"          \"purpose\"      \"of\"           \"modeling\"    \n",
            "\n",
            "Tokenized sentences:\n",
            "[1] \"There are multiple ways we can perform tokenization on given text data.\"     \n",
            "[2] \"We can choose any method based on langauge, library and purpose of modeling.\"\n"
          ]
        }
      ]
    },
    {
      "cell_type": "code",
      "source": [
        "word_freq <- table(word_tokens)\n",
        "\n",
        "print(\"Most common words:\")\n",
        "print(head(sort(word_freq, decreasing = TRUE), 2))\n",
        "\n",
        "print(\"Frequency of each word:\")\n",
        "print(word_freq)"
      ],
      "metadata": {
        "colab": {
          "base_uri": "https://localhost:8080/"
        },
        "id": "Inv24pDqRt2Y",
        "outputId": "f60aec1f-ea94-4e26-b87f-ff1445b93925"
      },
      "execution_count": null,
      "outputs": [
        {
          "output_type": "stream",
          "name": "stdout",
          "text": [
            "[1] \"Most common words:\"\n",
            "word_tokens\n",
            "can  on \n",
            "  2   2 \n",
            "[1] \"Frequency of each word:\"\n",
            "word_tokens\n",
            "         and          any          are        based          can       choose \n",
            "           1            1            1            1            2            1 \n",
            "        data        given     langauge      library       method     modeling \n",
            "           1            1            1            1            1            1 \n",
            "    multiple           of           on      perform      purpose         text \n",
            "           1            1            2            1            1            1 \n",
            "       there tokenization         ways           we \n",
            "           1            1            1            2 \n"
          ]
        }
      ]
    },
    {
      "cell_type": "code",
      "source": [
        "library(tm)\n",
        "\n",
        "filtered_tokens <- word_tokens[!word_tokens %in% stopwords(\"en\")]\n",
        "\n",
        "print(\"Filtered Tokens:\")\n",
        "print(filtered_tokens)"
      ],
      "metadata": {
        "colab": {
          "base_uri": "https://localhost:8080/"
        },
        "id": "eJUgbqeaRy50",
        "outputId": "d893d047-51bb-4fce-cf02-32c092784dce"
      },
      "execution_count": null,
      "outputs": [
        {
          "output_type": "stream",
          "name": "stdout",
          "text": [
            "[1] \"Filtered Tokens:\"\n",
            " [1] \"multiple\"     \"ways\"         \"can\"          \"perform\"      \"tokenization\"\n",
            " [6] \"given\"        \"text\"         \"data\"         \"can\"          \"choose\"      \n",
            "[11] \"method\"       \"based\"        \"langauge\"     \"library\"      \"purpose\"     \n",
            "[16] \"modeling\"    \n"
          ]
        }
      ]
    },
    {
      "cell_type": "code",
      "source": [
        "stemming <- function(text) {\n",
        "  corpus <- Corpus(VectorSource(text))\n",
        "  corpus <- tm_map(corpus, stemDocument)\n",
        "  return(corpus)\n",
        "}\n",
        "\n",
        "stemmed_corpus <- stemming(filtered_tokens)\n",
        "\n",
        "print(\"Stemmed Tokens:\")\n",
        "print(unlist(sapply(stemmed_corpus, as.character)))"
      ],
      "metadata": {
        "colab": {
          "base_uri": "https://localhost:8080/"
        },
        "id": "IASYDlBSR2vZ",
        "outputId": "d086ce5c-cf32-4573-933a-78f24c210e67"
      },
      "execution_count": null,
      "outputs": [
        {
          "output_type": "stream",
          "name": "stderr",
          "text": [
            "Warning message in tm_map.SimpleCorpus(corpus, stemDocument):\n",
            "“transformation drops documents”\n"
          ]
        },
        {
          "output_type": "stream",
          "name": "stdout",
          "text": [
            "[1] \"Stemmed Tokens:\"\n",
            " [1] \"multipl\" \"way\"     \"can\"     \"perform\" \"token\"   \"given\"   \"text\"   \n",
            " [8] \"data\"    \"can\"     \"choos\"   \"method\"  \"base\"    \"langaug\" \"librari\"\n",
            "[15] \"purpos\"  \"model\"  \n"
          ]
        }
      ]
    },
    {
      "cell_type": "code",
      "source": [
        "lemmatization <- function(text) {\n",
        "  corpus <- Corpus(VectorSource(text))\n",
        "  corpus <- tm_map(corpus, lemmatize_strings)\n",
        "  return(corpus)\n",
        "}\n",
        "\n",
        "lemmatized_corpus <- lemmatization(text)\n",
        "\n",
        "print(\"Lemmatized Tokens:\")\n",
        "print(unlist(sapply(lemmatized_corpus, as.character)))"
      ],
      "metadata": {
        "colab": {
          "base_uri": "https://localhost:8080/"
        },
        "id": "D0wEnLSJR6sA",
        "outputId": "276b325b-2c2e-43f5-bd21-3a4a933b5c79"
      },
      "execution_count": null,
      "outputs": [
        {
          "output_type": "stream",
          "name": "stderr",
          "text": [
            "Warning message in tm_map.SimpleCorpus(corpus, lemmatize_strings):\n",
            "“transformation drops documents”\n"
          ]
        },
        {
          "output_type": "stream",
          "name": "stdout",
          "text": [
            "[1] \"Lemmatized Tokens:\"\n",
            "[1] \"There be multiple way we can perform tokenization on give text datum. We can choose any method base on langauge, library and purpose of model.\"\n"
          ]
        }
      ]
    },
    {
      "cell_type": "code",
      "source": [
        "library(rvest)\n",
        "\n",
        "url <- 'https://en.wikipedia.org/wiki/Text_mining'\n",
        "\n",
        "page <- read_html(url)\n",
        "\n",
        "if (!is.null(page)) {\n",
        "  print(page)\n",
        "\n",
        "  first_paragraph <- html_nodes(page, 'p')[1]\n",
        "\n",
        "  if (!is.null(first_paragraph)) {\n",
        "    print(html_text(first_paragraph))\n",
        "  } else {\n",
        "    print('No <p> tags found on the website')\n",
        "  }\n",
        "} else {\n",
        "  print('Failed to retrieve data from the website')\n",
        "}"
      ],
      "metadata": {
        "colab": {
          "base_uri": "https://localhost:8080/"
        },
        "id": "wo3BnnkUR-dZ",
        "outputId": "3ccbd9ac-8c81-4b49-839c-9976928c3dbc"
      },
      "execution_count": null,
      "outputs": [
        {
          "output_type": "stream",
          "name": "stdout",
          "text": [
            "{html_document}\n",
            "<html class=\"client-nojs vector-feature-language-in-header-enabled vector-feature-language-in-main-page-header-disabled vector-feature-sticky-header-disabled vector-feature-page-tools-pinned-disabled vector-feature-toc-pinned-clientpref-1 vector-feature-main-menu-pinned-disabled vector-feature-limited-width-clientpref-1 vector-feature-limited-width-content-enabled vector-feature-custom-font-size-clientpref-0 vector-feature-client-preferences-disabled vector-feature-client-prefs-pinned-disabled vector-feature-night-mode-disabled skin-night-mode-clientpref-0 vector-toc-available\" lang=\"en\" dir=\"ltr\">\n",
            "[1] <head>\\n<meta http-equiv=\"Content-Type\" content=\"text/html; charset=UTF-8 ...\n",
            "[2] <body class=\"skin-vector skin-vector-search-vue mediawiki ltr sitedir-ltr ...\n",
            "[1] \"Text mining, text data mining (TDM) or text analytics is the process of deriving high-quality information from text. It involves \\\"the discovery by computer of new, previously unknown information, by automatically extracting information from different written resources.\\\"[1] Written resources may include websites, books, emails, reviews, and articles. High-quality information is typically obtained by devising patterns and trends by means such as statistical pattern learning. According to Hotho et al. (2005) we can distinguish between three different perspectives of text mining: information extraction, data mining, and a knowledge discovery in databases (KDD) process.[2] Text mining usually involves the process of structuring the input text (usually parsing, along with the addition of some derived linguistic features and the removal of others, and subsequent insertion into a database), deriving patterns within the structured data, and finally evaluation and interpretation of the output. 'High quality' in text mining usually refers to some combination of relevance, novelty, and interest. Typical text mining tasks include text categorization, text clustering, concept/entity extraction, production of granular taxonomies, sentiment analysis, document summarization, and entity relation modeling (i.e., learning relations between named entities).\\n\"\n"
          ]
        }
      ]
    }
  ]
}