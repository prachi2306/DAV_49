{
  "nbformat": 4,
  "nbformat_minor": 0,
  "metadata": {
    "colab": {
      "provenance": []
    },
    "kernelspec": {
      "name": "ir",
      "display_name": "R"
    },
    "language_info": {
      "name": "R"
    }
  },
  "cells": [
    {
      "cell_type": "markdown",
      "source": [
        "# **Experiment - 3: Multiple Linear Regression in Python and R**"
      ],
      "metadata": {
        "id": "yVqsD9QBMxYs"
      }
    },
    {
      "cell_type": "markdown",
      "source": [
        "Why do we need to study Multiple Linear Regression?\n",
        "\n",
        "1. **Predictive Modeling**: MLR predicts outcomes based on multiple input variables.\n",
        "2. **Understanding Relationships**: It reveals how independent variables affect the dependent variable.\n",
        "3. **Optimization**: MLR helps optimize processes by identifying influential factors.\n",
        "4. **Interpretability**: Results are easy to understand and communicate.\n",
        "5. **Model Evaluation**: It provides tools for assessing model fit and assumptions.\n",
        "6. **Foundation for Advanced Techniques**: MLR forms the basis for more complex regression methods.\n",
        "7. **Research and Analysis**: Widely used in research and data analysis across fields.\n",
        "8. **Business Decision Making**: Assists in understanding customer behavior and optimizing strategies.\n",
        "9. **Model Comparison**: Helps select the most suitable model based on various criteria.\n",
        "10. **Continuous Learning**: Enhances statistical and analytical skills in a data-driven world.\n",
        "\n",
        "In essence, studying MLR offers insights, predictive power, and analytical skills that are valuable across disciplines and industries."
      ],
      "metadata": {
        "id": "t-62ddM8M-lV"
      }
    },
    {
      "cell_type": "code",
      "source": [
        "!pip install pandas numpy scikit-learn matplotlib"
      ],
      "metadata": {
        "colab": {
          "base_uri": "https://localhost:8080/",
          "height": 0
        },
        "id": "47lNDVsf0D9W",
        "outputId": "5c8688dd-36ec-4b56-e6cd-d55541428d7b"
      },
      "execution_count": 6,
      "outputs": [
        {
          "output_type": "stream",
          "name": "stdout",
          "text": [
            "Requirement already satisfied: pandas in /usr/local/lib/python3.10/dist-packages (1.5.3)\n",
            "Requirement already satisfied: numpy in /usr/local/lib/python3.10/dist-packages (1.26.4)\n",
            "Requirement already satisfied: scikit-learn in /usr/local/lib/python3.10/dist-packages (1.2.2)\n",
            "Requirement already satisfied: matplotlib in /usr/local/lib/python3.10/dist-packages (3.7.1)\n",
            "Requirement already satisfied: python-dateutil>=2.8.1 in /usr/local/lib/python3.10/dist-packages (from pandas) (2.8.2)\n",
            "Requirement already satisfied: pytz>=2020.1 in /usr/local/lib/python3.10/dist-packages (from pandas) (2023.4)\n",
            "Requirement already satisfied: scipy>=1.3.2 in /usr/local/lib/python3.10/dist-packages (from scikit-learn) (1.11.4)\n",
            "Requirement already satisfied: joblib>=1.1.1 in /usr/local/lib/python3.10/dist-packages (from scikit-learn) (1.3.2)\n",
            "Requirement already satisfied: threadpoolctl>=2.0.0 in /usr/local/lib/python3.10/dist-packages (from scikit-learn) (3.2.0)\n",
            "Requirement already satisfied: contourpy>=1.0.1 in /usr/local/lib/python3.10/dist-packages (from matplotlib) (1.2.0)\n",
            "Requirement already satisfied: cycler>=0.10 in /usr/local/lib/python3.10/dist-packages (from matplotlib) (0.12.1)\n",
            "Requirement already satisfied: fonttools>=4.22.0 in /usr/local/lib/python3.10/dist-packages (from matplotlib) (4.47.2)\n",
            "Requirement already satisfied: kiwisolver>=1.0.1 in /usr/local/lib/python3.10/dist-packages (from matplotlib) (1.4.5)\n",
            "Requirement already satisfied: packaging>=20.0 in /usr/local/lib/python3.10/dist-packages (from matplotlib) (23.2)\n",
            "Requirement already satisfied: pillow>=6.2.0 in /usr/local/lib/python3.10/dist-packages (from matplotlib) (9.4.0)\n",
            "Requirement already satisfied: pyparsing>=2.3.1 in /usr/local/lib/python3.10/dist-packages (from matplotlib) (3.1.1)\n",
            "Requirement already satisfied: six>=1.5 in /usr/local/lib/python3.10/dist-packages (from python-dateutil>=2.8.1->pandas) (1.16.0)\n"
          ]
        }
      ]
    },
    {
      "cell_type": "markdown",
      "source": [
        "Download the dataset from UCI Repository / Kaggle\n",
        "\n",
        "-- Load data into Google Colab\n",
        "\n"
      ],
      "metadata": {
        "id": "By28cNdVDBFL"
      }
    },
    {
      "cell_type": "code",
      "source": [
        "import pandas as pd\n",
        "df = pd.read_csv('Student_Performance.csv')"
      ],
      "metadata": {
        "id": "NBoXzBO_1MvD"
      },
      "execution_count": 7,
      "outputs": []
    },
    {
      "cell_type": "markdown",
      "source": [
        "-- Display the summary of the dataset"
      ],
      "metadata": {
        "id": "Xpxb1UJ5DQIt"
      }
    },
    {
      "cell_type": "code",
      "source": [
        "print(df.describe())"
      ],
      "metadata": {
        "colab": {
          "base_uri": "https://localhost:8080/",
          "height": 0
        },
        "id": "VqOGYdp-1aPT",
        "outputId": "af72d48d-ef77-497b-9f94-51b17aa27428"
      },
      "execution_count": 8,
      "outputs": [
        {
          "output_type": "stream",
          "name": "stdout",
          "text": [
            "       Hours Studied  Previous Scores   Sleep Hours  \\\n",
            "count   10000.000000     10000.000000  10000.000000   \n",
            "mean        4.992900        69.445700      6.530600   \n",
            "std         2.589309        17.343152      1.695863   \n",
            "min         1.000000        40.000000      4.000000   \n",
            "25%         3.000000        54.000000      5.000000   \n",
            "50%         5.000000        69.000000      7.000000   \n",
            "75%         7.000000        85.000000      8.000000   \n",
            "max         9.000000        99.000000      9.000000   \n",
            "\n",
            "       Sample Question Papers Practiced  Performance Index  \n",
            "count                      10000.000000       10000.000000  \n",
            "mean                           4.583300          55.224800  \n",
            "std                            2.867348          19.212558  \n",
            "min                            0.000000          10.000000  \n",
            "25%                            2.000000          40.000000  \n",
            "50%                            5.000000          55.000000  \n",
            "75%                            7.000000          71.000000  \n",
            "max                            9.000000         100.000000  \n"
          ]
        }
      ]
    },
    {
      "cell_type": "code",
      "source": [
        "df.head()"
      ],
      "metadata": {
        "colab": {
          "base_uri": "https://localhost:8080/",
          "height": 206
        },
        "id": "kWegzpsc1jHf",
        "outputId": "47d43fa5-f9c3-45b2-ac27-51aefe7e8fff"
      },
      "execution_count": 9,
      "outputs": [
        {
          "output_type": "execute_result",
          "data": {
            "text/plain": [
              "   Hours Studied  Previous Scores Extracurricular Activities  Sleep Hours  \\\n",
              "0              7               99                        Yes            9   \n",
              "1              4               82                         No            4   \n",
              "2              8               51                        Yes            7   \n",
              "3              5               52                        Yes            5   \n",
              "4              7               75                         No            8   \n",
              "\n",
              "   Sample Question Papers Practiced  Performance Index  \n",
              "0                                 1               91.0  \n",
              "1                                 2               65.0  \n",
              "2                                 2               45.0  \n",
              "3                                 2               36.0  \n",
              "4                                 5               66.0  "
            ],
            "text/html": [
              "\n",
              "  <div id=\"df-8f4ce05f-55dc-4756-a2bc-49c6611448e1\" class=\"colab-df-container\">\n",
              "    <div>\n",
              "<style scoped>\n",
              "    .dataframe tbody tr th:only-of-type {\n",
              "        vertical-align: middle;\n",
              "    }\n",
              "\n",
              "    .dataframe tbody tr th {\n",
              "        vertical-align: top;\n",
              "    }\n",
              "\n",
              "    .dataframe thead th {\n",
              "        text-align: right;\n",
              "    }\n",
              "</style>\n",
              "<table border=\"1\" class=\"dataframe\">\n",
              "  <thead>\n",
              "    <tr style=\"text-align: right;\">\n",
              "      <th></th>\n",
              "      <th>Hours Studied</th>\n",
              "      <th>Previous Scores</th>\n",
              "      <th>Extracurricular Activities</th>\n",
              "      <th>Sleep Hours</th>\n",
              "      <th>Sample Question Papers Practiced</th>\n",
              "      <th>Performance Index</th>\n",
              "    </tr>\n",
              "  </thead>\n",
              "  <tbody>\n",
              "    <tr>\n",
              "      <th>0</th>\n",
              "      <td>7</td>\n",
              "      <td>99</td>\n",
              "      <td>Yes</td>\n",
              "      <td>9</td>\n",
              "      <td>1</td>\n",
              "      <td>91.0</td>\n",
              "    </tr>\n",
              "    <tr>\n",
              "      <th>1</th>\n",
              "      <td>4</td>\n",
              "      <td>82</td>\n",
              "      <td>No</td>\n",
              "      <td>4</td>\n",
              "      <td>2</td>\n",
              "      <td>65.0</td>\n",
              "    </tr>\n",
              "    <tr>\n",
              "      <th>2</th>\n",
              "      <td>8</td>\n",
              "      <td>51</td>\n",
              "      <td>Yes</td>\n",
              "      <td>7</td>\n",
              "      <td>2</td>\n",
              "      <td>45.0</td>\n",
              "    </tr>\n",
              "    <tr>\n",
              "      <th>3</th>\n",
              "      <td>5</td>\n",
              "      <td>52</td>\n",
              "      <td>Yes</td>\n",
              "      <td>5</td>\n",
              "      <td>2</td>\n",
              "      <td>36.0</td>\n",
              "    </tr>\n",
              "    <tr>\n",
              "      <th>4</th>\n",
              "      <td>7</td>\n",
              "      <td>75</td>\n",
              "      <td>No</td>\n",
              "      <td>8</td>\n",
              "      <td>5</td>\n",
              "      <td>66.0</td>\n",
              "    </tr>\n",
              "  </tbody>\n",
              "</table>\n",
              "</div>\n",
              "    <div class=\"colab-df-buttons\">\n",
              "\n",
              "  <div class=\"colab-df-container\">\n",
              "    <button class=\"colab-df-convert\" onclick=\"convertToInteractive('df-8f4ce05f-55dc-4756-a2bc-49c6611448e1')\"\n",
              "            title=\"Convert this dataframe to an interactive table.\"\n",
              "            style=\"display:none;\">\n",
              "\n",
              "  <svg xmlns=\"http://www.w3.org/2000/svg\" height=\"24px\" viewBox=\"0 -960 960 960\">\n",
              "    <path d=\"M120-120v-720h720v720H120Zm60-500h600v-160H180v160Zm220 220h160v-160H400v160Zm0 220h160v-160H400v160ZM180-400h160v-160H180v160Zm440 0h160v-160H620v160ZM180-180h160v-160H180v160Zm440 0h160v-160H620v160Z\"/>\n",
              "  </svg>\n",
              "    </button>\n",
              "\n",
              "  <style>\n",
              "    .colab-df-container {\n",
              "      display:flex;\n",
              "      gap: 12px;\n",
              "    }\n",
              "\n",
              "    .colab-df-convert {\n",
              "      background-color: #E8F0FE;\n",
              "      border: none;\n",
              "      border-radius: 50%;\n",
              "      cursor: pointer;\n",
              "      display: none;\n",
              "      fill: #1967D2;\n",
              "      height: 32px;\n",
              "      padding: 0 0 0 0;\n",
              "      width: 32px;\n",
              "    }\n",
              "\n",
              "    .colab-df-convert:hover {\n",
              "      background-color: #E2EBFA;\n",
              "      box-shadow: 0px 1px 2px rgba(60, 64, 67, 0.3), 0px 1px 3px 1px rgba(60, 64, 67, 0.15);\n",
              "      fill: #174EA6;\n",
              "    }\n",
              "\n",
              "    .colab-df-buttons div {\n",
              "      margin-bottom: 4px;\n",
              "    }\n",
              "\n",
              "    [theme=dark] .colab-df-convert {\n",
              "      background-color: #3B4455;\n",
              "      fill: #D2E3FC;\n",
              "    }\n",
              "\n",
              "    [theme=dark] .colab-df-convert:hover {\n",
              "      background-color: #434B5C;\n",
              "      box-shadow: 0px 1px 3px 1px rgba(0, 0, 0, 0.15);\n",
              "      filter: drop-shadow(0px 1px 2px rgba(0, 0, 0, 0.3));\n",
              "      fill: #FFFFFF;\n",
              "    }\n",
              "  </style>\n",
              "\n",
              "    <script>\n",
              "      const buttonEl =\n",
              "        document.querySelector('#df-8f4ce05f-55dc-4756-a2bc-49c6611448e1 button.colab-df-convert');\n",
              "      buttonEl.style.display =\n",
              "        google.colab.kernel.accessAllowed ? 'block' : 'none';\n",
              "\n",
              "      async function convertToInteractive(key) {\n",
              "        const element = document.querySelector('#df-8f4ce05f-55dc-4756-a2bc-49c6611448e1');\n",
              "        const dataTable =\n",
              "          await google.colab.kernel.invokeFunction('convertToInteractive',\n",
              "                                                    [key], {});\n",
              "        if (!dataTable) return;\n",
              "\n",
              "        const docLinkHtml = 'Like what you see? Visit the ' +\n",
              "          '<a target=\"_blank\" href=https://colab.research.google.com/notebooks/data_table.ipynb>data table notebook</a>'\n",
              "          + ' to learn more about interactive tables.';\n",
              "        element.innerHTML = '';\n",
              "        dataTable['output_type'] = 'display_data';\n",
              "        await google.colab.output.renderOutput(dataTable, element);\n",
              "        const docLink = document.createElement('div');\n",
              "        docLink.innerHTML = docLinkHtml;\n",
              "        element.appendChild(docLink);\n",
              "      }\n",
              "    </script>\n",
              "  </div>\n",
              "\n",
              "\n",
              "<div id=\"df-e0a94763-9511-41a1-b2cf-c0c719a78b25\">\n",
              "  <button class=\"colab-df-quickchart\" onclick=\"quickchart('df-e0a94763-9511-41a1-b2cf-c0c719a78b25')\"\n",
              "            title=\"Suggest charts\"\n",
              "            style=\"display:none;\">\n",
              "\n",
              "<svg xmlns=\"http://www.w3.org/2000/svg\" height=\"24px\"viewBox=\"0 0 24 24\"\n",
              "     width=\"24px\">\n",
              "    <g>\n",
              "        <path d=\"M19 3H5c-1.1 0-2 .9-2 2v14c0 1.1.9 2 2 2h14c1.1 0 2-.9 2-2V5c0-1.1-.9-2-2-2zM9 17H7v-7h2v7zm4 0h-2V7h2v10zm4 0h-2v-4h2v4z\"/>\n",
              "    </g>\n",
              "</svg>\n",
              "  </button>\n",
              "\n",
              "<style>\n",
              "  .colab-df-quickchart {\n",
              "      --bg-color: #E8F0FE;\n",
              "      --fill-color: #1967D2;\n",
              "      --hover-bg-color: #E2EBFA;\n",
              "      --hover-fill-color: #174EA6;\n",
              "      --disabled-fill-color: #AAA;\n",
              "      --disabled-bg-color: #DDD;\n",
              "  }\n",
              "\n",
              "  [theme=dark] .colab-df-quickchart {\n",
              "      --bg-color: #3B4455;\n",
              "      --fill-color: #D2E3FC;\n",
              "      --hover-bg-color: #434B5C;\n",
              "      --hover-fill-color: #FFFFFF;\n",
              "      --disabled-bg-color: #3B4455;\n",
              "      --disabled-fill-color: #666;\n",
              "  }\n",
              "\n",
              "  .colab-df-quickchart {\n",
              "    background-color: var(--bg-color);\n",
              "    border: none;\n",
              "    border-radius: 50%;\n",
              "    cursor: pointer;\n",
              "    display: none;\n",
              "    fill: var(--fill-color);\n",
              "    height: 32px;\n",
              "    padding: 0;\n",
              "    width: 32px;\n",
              "  }\n",
              "\n",
              "  .colab-df-quickchart:hover {\n",
              "    background-color: var(--hover-bg-color);\n",
              "    box-shadow: 0 1px 2px rgba(60, 64, 67, 0.3), 0 1px 3px 1px rgba(60, 64, 67, 0.15);\n",
              "    fill: var(--button-hover-fill-color);\n",
              "  }\n",
              "\n",
              "  .colab-df-quickchart-complete:disabled,\n",
              "  .colab-df-quickchart-complete:disabled:hover {\n",
              "    background-color: var(--disabled-bg-color);\n",
              "    fill: var(--disabled-fill-color);\n",
              "    box-shadow: none;\n",
              "  }\n",
              "\n",
              "  .colab-df-spinner {\n",
              "    border: 2px solid var(--fill-color);\n",
              "    border-color: transparent;\n",
              "    border-bottom-color: var(--fill-color);\n",
              "    animation:\n",
              "      spin 1s steps(1) infinite;\n",
              "  }\n",
              "\n",
              "  @keyframes spin {\n",
              "    0% {\n",
              "      border-color: transparent;\n",
              "      border-bottom-color: var(--fill-color);\n",
              "      border-left-color: var(--fill-color);\n",
              "    }\n",
              "    20% {\n",
              "      border-color: transparent;\n",
              "      border-left-color: var(--fill-color);\n",
              "      border-top-color: var(--fill-color);\n",
              "    }\n",
              "    30% {\n",
              "      border-color: transparent;\n",
              "      border-left-color: var(--fill-color);\n",
              "      border-top-color: var(--fill-color);\n",
              "      border-right-color: var(--fill-color);\n",
              "    }\n",
              "    40% {\n",
              "      border-color: transparent;\n",
              "      border-right-color: var(--fill-color);\n",
              "      border-top-color: var(--fill-color);\n",
              "    }\n",
              "    60% {\n",
              "      border-color: transparent;\n",
              "      border-right-color: var(--fill-color);\n",
              "    }\n",
              "    80% {\n",
              "      border-color: transparent;\n",
              "      border-right-color: var(--fill-color);\n",
              "      border-bottom-color: var(--fill-color);\n",
              "    }\n",
              "    90% {\n",
              "      border-color: transparent;\n",
              "      border-bottom-color: var(--fill-color);\n",
              "    }\n",
              "  }\n",
              "</style>\n",
              "\n",
              "  <script>\n",
              "    async function quickchart(key) {\n",
              "      const quickchartButtonEl =\n",
              "        document.querySelector('#' + key + ' button');\n",
              "      quickchartButtonEl.disabled = true;  // To prevent multiple clicks.\n",
              "      quickchartButtonEl.classList.add('colab-df-spinner');\n",
              "      try {\n",
              "        const charts = await google.colab.kernel.invokeFunction(\n",
              "            'suggestCharts', [key], {});\n",
              "      } catch (error) {\n",
              "        console.error('Error during call to suggestCharts:', error);\n",
              "      }\n",
              "      quickchartButtonEl.classList.remove('colab-df-spinner');\n",
              "      quickchartButtonEl.classList.add('colab-df-quickchart-complete');\n",
              "    }\n",
              "    (() => {\n",
              "      let quickchartButtonEl =\n",
              "        document.querySelector('#df-e0a94763-9511-41a1-b2cf-c0c719a78b25 button');\n",
              "      quickchartButtonEl.style.display =\n",
              "        google.colab.kernel.accessAllowed ? 'block' : 'none';\n",
              "    })();\n",
              "  </script>\n",
              "</div>\n",
              "    </div>\n",
              "  </div>\n"
            ]
          },
          "metadata": {},
          "execution_count": 9
        }
      ]
    },
    {
      "cell_type": "code",
      "source": [
        "df.columns"
      ],
      "metadata": {
        "colab": {
          "base_uri": "https://localhost:8080/",
          "height": 0
        },
        "id": "gHhy-Wxf1rX0",
        "outputId": "53bf31c9-f278-4375-d7b8-2948f9b7658b"
      },
      "execution_count": 10,
      "outputs": [
        {
          "output_type": "execute_result",
          "data": {
            "text/plain": [
              "Index(['Hours Studied', 'Previous Scores', 'Extracurricular Activities',\n",
              "       'Sleep Hours', 'Sample Question Papers Practiced', 'Performance Index'],\n",
              "      dtype='object')"
            ]
          },
          "metadata": {},
          "execution_count": 10
        }
      ]
    },
    {
      "cell_type": "code",
      "source": [
        "!pip install --upgrade numpy"
      ],
      "metadata": {
        "id": "5NH4EE5y2QTJ"
      },
      "execution_count": null,
      "outputs": []
    },
    {
      "cell_type": "markdown",
      "source": [
        "Create a model and fit it"
      ],
      "metadata": {
        "id": "4Zf7-7hcDXer"
      }
    },
    {
      "cell_type": "code",
      "source": [
        "from sklearn.linear_model import LinearRegression"
      ],
      "metadata": {
        "id": "Zzt5OgNM10ZY"
      },
      "execution_count": 11,
      "outputs": []
    },
    {
      "cell_type": "code",
      "source": [
        "X = df[['Hours Studied', 'Previous Scores', 'Sleep Hours']]\n",
        "y = df['Performance Index']"
      ],
      "metadata": {
        "id": "99Jt0cNF2lCW"
      },
      "execution_count": 12,
      "outputs": []
    },
    {
      "cell_type": "code",
      "source": [
        "model = LinearRegression()\n",
        "model.fit(X, y)"
      ],
      "metadata": {
        "colab": {
          "base_uri": "https://localhost:8080/",
          "height": 75
        },
        "id": "XeyrXgXr3NSc",
        "outputId": "3ea02ee9-9a96-4819-ab56-e7512a27ade9"
      },
      "execution_count": 13,
      "outputs": [
        {
          "output_type": "execute_result",
          "data": {
            "text/plain": [
              "LinearRegression()"
            ],
            "text/html": [
              "<style>#sk-container-id-1 {color: black;background-color: white;}#sk-container-id-1 pre{padding: 0;}#sk-container-id-1 div.sk-toggleable {background-color: white;}#sk-container-id-1 label.sk-toggleable__label {cursor: pointer;display: block;width: 100%;margin-bottom: 0;padding: 0.3em;box-sizing: border-box;text-align: center;}#sk-container-id-1 label.sk-toggleable__label-arrow:before {content: \"▸\";float: left;margin-right: 0.25em;color: #696969;}#sk-container-id-1 label.sk-toggleable__label-arrow:hover:before {color: black;}#sk-container-id-1 div.sk-estimator:hover label.sk-toggleable__label-arrow:before {color: black;}#sk-container-id-1 div.sk-toggleable__content {max-height: 0;max-width: 0;overflow: hidden;text-align: left;background-color: #f0f8ff;}#sk-container-id-1 div.sk-toggleable__content pre {margin: 0.2em;color: black;border-radius: 0.25em;background-color: #f0f8ff;}#sk-container-id-1 input.sk-toggleable__control:checked~div.sk-toggleable__content {max-height: 200px;max-width: 100%;overflow: auto;}#sk-container-id-1 input.sk-toggleable__control:checked~label.sk-toggleable__label-arrow:before {content: \"▾\";}#sk-container-id-1 div.sk-estimator input.sk-toggleable__control:checked~label.sk-toggleable__label {background-color: #d4ebff;}#sk-container-id-1 div.sk-label input.sk-toggleable__control:checked~label.sk-toggleable__label {background-color: #d4ebff;}#sk-container-id-1 input.sk-hidden--visually {border: 0;clip: rect(1px 1px 1px 1px);clip: rect(1px, 1px, 1px, 1px);height: 1px;margin: -1px;overflow: hidden;padding: 0;position: absolute;width: 1px;}#sk-container-id-1 div.sk-estimator {font-family: monospace;background-color: #f0f8ff;border: 1px dotted black;border-radius: 0.25em;box-sizing: border-box;margin-bottom: 0.5em;}#sk-container-id-1 div.sk-estimator:hover {background-color: #d4ebff;}#sk-container-id-1 div.sk-parallel-item::after {content: \"\";width: 100%;border-bottom: 1px solid gray;flex-grow: 1;}#sk-container-id-1 div.sk-label:hover label.sk-toggleable__label {background-color: #d4ebff;}#sk-container-id-1 div.sk-serial::before {content: \"\";position: absolute;border-left: 1px solid gray;box-sizing: border-box;top: 0;bottom: 0;left: 50%;z-index: 0;}#sk-container-id-1 div.sk-serial {display: flex;flex-direction: column;align-items: center;background-color: white;padding-right: 0.2em;padding-left: 0.2em;position: relative;}#sk-container-id-1 div.sk-item {position: relative;z-index: 1;}#sk-container-id-1 div.sk-parallel {display: flex;align-items: stretch;justify-content: center;background-color: white;position: relative;}#sk-container-id-1 div.sk-item::before, #sk-container-id-1 div.sk-parallel-item::before {content: \"\";position: absolute;border-left: 1px solid gray;box-sizing: border-box;top: 0;bottom: 0;left: 50%;z-index: -1;}#sk-container-id-1 div.sk-parallel-item {display: flex;flex-direction: column;z-index: 1;position: relative;background-color: white;}#sk-container-id-1 div.sk-parallel-item:first-child::after {align-self: flex-end;width: 50%;}#sk-container-id-1 div.sk-parallel-item:last-child::after {align-self: flex-start;width: 50%;}#sk-container-id-1 div.sk-parallel-item:only-child::after {width: 0;}#sk-container-id-1 div.sk-dashed-wrapped {border: 1px dashed gray;margin: 0 0.4em 0.5em 0.4em;box-sizing: border-box;padding-bottom: 0.4em;background-color: white;}#sk-container-id-1 div.sk-label label {font-family: monospace;font-weight: bold;display: inline-block;line-height: 1.2em;}#sk-container-id-1 div.sk-label-container {text-align: center;}#sk-container-id-1 div.sk-container {/* jupyter's `normalize.less` sets `[hidden] { display: none; }` but bootstrap.min.css set `[hidden] { display: none !important; }` so we also need the `!important` here to be able to override the default hidden behavior on the sphinx rendered scikit-learn.org. See: https://github.com/scikit-learn/scikit-learn/issues/21755 */display: inline-block !important;position: relative;}#sk-container-id-1 div.sk-text-repr-fallback {display: none;}</style><div id=\"sk-container-id-1\" class=\"sk-top-container\"><div class=\"sk-text-repr-fallback\"><pre>LinearRegression()</pre><b>In a Jupyter environment, please rerun this cell to show the HTML representation or trust the notebook. <br />On GitHub, the HTML representation is unable to render, please try loading this page with nbviewer.org.</b></div><div class=\"sk-container\" hidden><div class=\"sk-item\"><div class=\"sk-estimator sk-toggleable\"><input class=\"sk-toggleable__control sk-hidden--visually\" id=\"sk-estimator-id-1\" type=\"checkbox\" checked><label for=\"sk-estimator-id-1\" class=\"sk-toggleable__label sk-toggleable__label-arrow\">LinearRegression</label><div class=\"sk-toggleable__content\"><pre>LinearRegression()</pre></div></div></div></div></div>"
            ]
          },
          "metadata": {},
          "execution_count": 13
        }
      ]
    },
    {
      "cell_type": "markdown",
      "source": [
        "Get the values : Coefficient of Determination, Intercept and Coefficients\n",
        "\n"
      ],
      "metadata": {
        "id": "Sm-rUZZ9DeoC"
      }
    },
    {
      "cell_type": "markdown",
      "source": [
        "**Coefficient of determination (R-squared)bold text**"
      ],
      "metadata": {
        "id": "_JOgDCm9Dge_"
      }
    },
    {
      "cell_type": "code",
      "source": [
        "r_squared = model.score(X, y)"
      ],
      "metadata": {
        "id": "ThZd5_uE3Rw3"
      },
      "execution_count": 14,
      "outputs": []
    },
    {
      "cell_type": "code",
      "source": [
        "model.score(X,y)"
      ],
      "metadata": {
        "colab": {
          "base_uri": "https://localhost:8080/",
          "height": 0
        },
        "id": "6PYBiNw-3kdd",
        "outputId": "8ab55ade-663c-416b-861a-9b90274a8a04"
      },
      "execution_count": 15,
      "outputs": [
        {
          "output_type": "execute_result",
          "data": {
            "text/plain": [
              "0.9876497723179762"
            ]
          },
          "metadata": {},
          "execution_count": 15
        }
      ]
    },
    {
      "cell_type": "markdown",
      "source": [
        "**Intercept**"
      ],
      "metadata": {
        "id": "fEE7QDYgDr8S"
      }
    },
    {
      "cell_type": "code",
      "source": [
        "intercept = model.intercept_"
      ],
      "metadata": {
        "id": "OYa9BuiQ3W3a"
      },
      "execution_count": 16,
      "outputs": []
    },
    {
      "cell_type": "code",
      "source": [
        "model.intercept_"
      ],
      "metadata": {
        "colab": {
          "base_uri": "https://localhost:8080/",
          "height": 0
        },
        "id": "nJb0WdGu3uI6",
        "outputId": "310dc003-0a4c-4341-8b37-91a5ff5400ac"
      },
      "execution_count": 17,
      "outputs": [
        {
          "output_type": "execute_result",
          "data": {
            "text/plain": [
              "-32.91458717489678"
            ]
          },
          "metadata": {},
          "execution_count": 17
        }
      ]
    },
    {
      "cell_type": "markdown",
      "source": [
        "**Coefficients**"
      ],
      "metadata": {
        "id": "R4Rog90PDxLX"
      }
    },
    {
      "cell_type": "code",
      "source": [
        "coefficients = model.coef_"
      ],
      "metadata": {
        "id": "BrmTzLJr3zKM"
      },
      "execution_count": 18,
      "outputs": []
    },
    {
      "cell_type": "code",
      "source": [
        "model.coef_"
      ],
      "metadata": {
        "colab": {
          "base_uri": "https://localhost:8080/",
          "height": 0
        },
        "id": "BXtOxJhm30yR",
        "outputId": "8039b640-5877-4cbd-c15b-54522cd5ee62"
      },
      "execution_count": 19,
      "outputs": [
        {
          "output_type": "execute_result",
          "data": {
            "text/plain": [
              "array([2.85722462, 1.01884437, 0.47762684])"
            ]
          },
          "metadata": {},
          "execution_count": 19
        }
      ]
    },
    {
      "cell_type": "markdown",
      "source": [
        "Predict the response"
      ],
      "metadata": {
        "id": "XR4XL2F-D5Nq"
      }
    },
    {
      "cell_type": "code",
      "source": [
        "y_pred = model.predict(X)\n",
        "model.predict(X)"
      ],
      "metadata": {
        "colab": {
          "base_uri": "https://localhost:8080/",
          "height": 0
        },
        "id": "BVAqzYDU36qV",
        "outputId": "b1602146-f8f4-4017-964c-1063b69087fa"
      },
      "execution_count": 20,
      "outputs": [
        {
          "output_type": "execute_result",
          "data": {
            "text/plain": [
              "array([92.25021944, 63.97005708, 45.24766058, ..., 72.61385805,\n",
              "       94.97172626, 66.30148333])"
            ]
          },
          "metadata": {},
          "execution_count": 20
        }
      ]
    },
    {
      "cell_type": "markdown",
      "source": [
        "Visualize the results with a graph"
      ],
      "metadata": {
        "id": "Dklcwgv_EBL5"
      }
    },
    {
      "cell_type": "code",
      "source": [
        "import matplotlib.pyplot as plt\n",
        "\n",
        "# Scatter plot of actual vs. predicted values\n",
        "plt.scatter(y, y_pred)\n",
        "plt.xlabel('Actual')\n",
        "plt.ylabel('Predicted')\n",
        "plt.title('Actual vs. Predicted')\n",
        "plt.show()"
      ],
      "metadata": {
        "colab": {
          "base_uri": "https://localhost:8080/",
          "height": 472
        },
        "id": "FFYKK9SpHXkQ",
        "outputId": "171f2189-0f86-4f7f-f678-948c2a19b845"
      },
      "execution_count": 21,
      "outputs": [
        {
          "output_type": "display_data",
          "data": {
            "text/plain": [
              "<Figure size 640x480 with 1 Axes>"
            ],
            "image/png": "[encoded data removed]"
          },
          "metadata": {}
        }
      ]
    },
    {
      "cell_type": "markdown",
      "source": [
        "**Implementation in R**"
      ],
      "metadata": {
        "id": "DtnUudjA4Tkz"
      }
    },
    {
      "cell_type": "code",
      "source": [
        "install.packages(c(\"dplyr\", \"tidyr\", \"readr\", \"ggplot2\", \"caret\", \"lmtest\"))"
      ],
      "metadata": {
        "colab": {
          "base_uri": "https://localhost:8080/",
          "height": 0
        },
        "id": "8Mr9VrML4cnE",
        "outputId": "9940ef97-a5aa-49aa-dc2a-192ce207ee37"
      },
      "execution_count": 1,
      "outputs": [
        {
          "output_type": "stream",
          "name": "stderr",
          "text": [
            "Installing packages into ‘/usr/local/lib/R/site-library’\n",
            "(as ‘lib’ is unspecified)\n",
            "\n"
          ]
        }
      ]
    },
    {
      "cell_type": "code",
      "source": [
        "data <- read.csv(\"Student_Performance.csv\")"
      ],
      "metadata": {
        "id": "JjXgBHka7LNB"
      },
      "execution_count": 2,
      "outputs": []
    },
    {
      "cell_type": "code",
      "source": [
        "summary(data)"
      ],
      "metadata": {
        "colab": {
          "base_uri": "https://localhost:8080/",
          "height": 260
        },
        "id": "NhCp8kd07T8Q",
        "outputId": "a4fad97a-bc39-41ec-b2de-6ac6a8326d90"
      },
      "execution_count": 3,
      "outputs": [
        {
          "output_type": "display_data",
          "data": {
            "text/plain": [
              " Hours.Studied   Previous.Scores Extracurricular.Activities  Sleep.Hours   \n",
              " Min.   :1.000   Min.   :40.00   Length:10000               Min.   :4.000  \n",
              " 1st Qu.:3.000   1st Qu.:54.00   Class :character           1st Qu.:5.000  \n",
              " Median :5.000   Median :69.00   Mode  :character           Median :7.000  \n",
              " Mean   :4.993   Mean   :69.45                              Mean   :6.531  \n",
              " 3rd Qu.:7.000   3rd Qu.:85.00                              3rd Qu.:8.000  \n",
              " Max.   :9.000   Max.   :99.00                              Max.   :9.000  \n",
              " Sample.Question.Papers.Practiced Performance.Index\n",
              " Min.   :0.000                    Min.   : 10.00   \n",
              " 1st Qu.:2.000                    1st Qu.: 40.00   \n",
              " Median :5.000                    Median : 55.00   \n",
              " Mean   :4.583                    Mean   : 55.22   \n",
              " 3rd Qu.:7.000                    3rd Qu.: 71.00   \n",
              " Max.   :9.000                    Max.   :100.00   "
            ]
          },
          "metadata": {}
        }
      ]
    },
    {
      "cell_type": "code",
      "source": [
        "head(data)"
      ],
      "metadata": {
        "colab": {
          "base_uri": "https://localhost:8080/",
          "height": 286
        },
        "id": "qgk7rhpq7ZTO",
        "outputId": "a0ee80e7-e11c-43de-a5aa-ddd9a35ec872"
      },
      "execution_count": 4,
      "outputs": [
        {
          "output_type": "display_data",
          "data": {
            "text/html": [
              "<table class=\"dataframe\">\n",
              "<caption>A data.frame: 6 × 6</caption>\n",
              "<thead>\n",
              "\t<tr><th></th><th scope=col>Hours.Studied</th><th scope=col>Previous.Scores</th><th scope=col>Extracurricular.Activities</th><th scope=col>Sleep.Hours</th><th scope=col>Sample.Question.Papers.Practiced</th><th scope=col>Performance.Index</th></tr>\n",
              "\t<tr><th></th><th scope=col>&lt;int&gt;</th><th scope=col>&lt;int&gt;</th><th scope=col>&lt;chr&gt;</th><th scope=col>&lt;int&gt;</th><th scope=col>&lt;int&gt;</th><th scope=col>&lt;dbl&gt;</th></tr>\n",
              "</thead>\n",
              "<tbody>\n",
              "\t<tr><th scope=row>1</th><td>7</td><td>99</td><td>Yes</td><td>9</td><td>1</td><td>91</td></tr>\n",
              "\t<tr><th scope=row>2</th><td>4</td><td>82</td><td>No </td><td>4</td><td>2</td><td>65</td></tr>\n",
              "\t<tr><th scope=row>3</th><td>8</td><td>51</td><td>Yes</td><td>7</td><td>2</td><td>45</td></tr>\n",
              "\t<tr><th scope=row>4</th><td>5</td><td>52</td><td>Yes</td><td>5</td><td>2</td><td>36</td></tr>\n",
              "\t<tr><th scope=row>5</th><td>7</td><td>75</td><td>No </td><td>8</td><td>5</td><td>66</td></tr>\n",
              "\t<tr><th scope=row>6</th><td>3</td><td>78</td><td>No </td><td>9</td><td>6</td><td>61</td></tr>\n",
              "</tbody>\n",
              "</table>\n"
            ],
            "text/markdown": "\nA data.frame: 6 × 6\n\n| <!--/--> | Hours.Studied &lt;int&gt; | Previous.Scores &lt;int&gt; | Extracurricular.Activities &lt;chr&gt; | Sleep.Hours &lt;int&gt; | Sample.Question.Papers.Practiced &lt;int&gt; | Performance.Index &lt;dbl&gt; |\n|---|---|---|---|---|---|---|\n| 1 | 7 | 99 | Yes | 9 | 1 | 91 |\n| 2 | 4 | 82 | No  | 4 | 2 | 65 |\n| 3 | 8 | 51 | Yes | 7 | 2 | 45 |\n| 4 | 5 | 52 | Yes | 5 | 2 | 36 |\n| 5 | 7 | 75 | No  | 8 | 5 | 66 |\n| 6 | 3 | 78 | No  | 9 | 6 | 61 |\n\n",
            "text/latex": "A data.frame: 6 × 6\n\\begin{tabular}{r|llllll}\n  & Hours.Studied & Previous.Scores & Extracurricular.Activities & Sleep.Hours & Sample.Question.Papers.Practiced & Performance.Index\\\\\n  & <int> & <int> & <chr> & <int> & <int> & <dbl>\\\\\n\\hline\n\t1 & 7 & 99 & Yes & 9 & 1 & 91\\\\\n\t2 & 4 & 82 & No  & 4 & 2 & 65\\\\\n\t3 & 8 & 51 & Yes & 7 & 2 & 45\\\\\n\t4 & 5 & 52 & Yes & 5 & 2 & 36\\\\\n\t5 & 7 & 75 & No  & 8 & 5 & 66\\\\\n\t6 & 3 & 78 & No  & 9 & 6 & 61\\\\\n\\end{tabular}\n",
            "text/plain": [
              "  Hours.Studied Previous.Scores Extracurricular.Activities Sleep.Hours\n",
              "1 7             99              Yes                        9          \n",
              "2 4             82              No                         4          \n",
              "3 8             51              Yes                        7          \n",
              "4 5             52              Yes                        5          \n",
              "5 7             75              No                         8          \n",
              "6 3             78              No                         9          \n",
              "  Sample.Question.Papers.Practiced Performance.Index\n",
              "1 1                                91               \n",
              "2 2                                65               \n",
              "3 2                                45               \n",
              "4 2                                36               \n",
              "5 5                                66               \n",
              "6 6                                61               "
            ]
          },
          "metadata": {}
        }
      ]
    },
    {
      "cell_type": "code",
      "source": [
        "X_train <- data[, c(\"Hours.Studied\", \"Previous.Scores\", \"Sleep.Hours\", \"Sample.Question.Papers.Practiced\")]\n",
        "y_train <- data$Performance.Index"
      ],
      "metadata": {
        "id": "6Iv0lEMr7iha"
      },
      "execution_count": 5,
      "outputs": []
    },
    {
      "cell_type": "code",
      "source": [
        "class(X_train)"
      ],
      "metadata": {
        "colab": {
          "base_uri": "https://localhost:8080/",
          "height": 34
        },
        "id": "GeqdVykf_pYs",
        "outputId": "3689ac9a-d3ab-4004-9245-e9c8a468cb57"
      },
      "execution_count": 6,
      "outputs": [
        {
          "output_type": "display_data",
          "data": {
            "text/html": [
              "'data.frame'"
            ],
            "text/markdown": "'data.frame'",
            "text/latex": "'data.frame'",
            "text/plain": [
              "[1] \"data.frame\""
            ]
          },
          "metadata": {}
        }
      ]
    },
    {
      "cell_type": "code",
      "source": [
        "model <- lm(formula=Performance.Index~Hours.Studied+Previous.Scores+Sleep.Hours+Sample.Question.Papers.Practiced, data=data)"
      ],
      "metadata": {
        "id": "ILat9Ze3_xIo"
      },
      "execution_count": 7,
      "outputs": []
    },
    {
      "cell_type": "code",
      "source": [
        "summary(model)"
      ],
      "metadata": {
        "colab": {
          "base_uri": "https://localhost:8080/",
          "height": 399
        },
        "id": "3gLOTsKX_2UV",
        "outputId": "a73f6f50-c3e5-49d2-8a98-bc06c3df2992"
      },
      "execution_count": 8,
      "outputs": [
        {
          "output_type": "display_data",
          "data": {
            "text/plain": [
              "\n",
              "Call:\n",
              "lm(formula = Performance.Index ~ Hours.Studied + Previous.Scores + \n",
              "    Sleep.Hours + Sample.Question.Papers.Practiced, data = data)\n",
              "\n",
              "Residuals:\n",
              "    Min      1Q  Median      3Q     Max \n",
              "-8.3299 -1.3831 -0.0062  1.3701  8.4864 \n",
              "\n",
              "Coefficients:\n",
              "                                   Estimate Std. Error t value Pr(>|t|)    \n",
              "(Intercept)                      -33.763726   0.126841 -266.19   <2e-16 ***\n",
              "Hours.Studied                      2.853429   0.007962  358.40   <2e-16 ***\n",
              "Previous.Scores                    1.018584   0.001189  857.02   <2e-16 ***\n",
              "Sleep.Hours                        0.476333   0.012153   39.19   <2e-16 ***\n",
              "Sample.Question.Papers.Practiced   0.195198   0.007189   27.15   <2e-16 ***\n",
              "---\n",
              "Signif. codes:  0 ‘***’ 0.001 ‘**’ 0.01 ‘*’ 0.05 ‘.’ 0.1 ‘ ’ 1\n",
              "\n",
              "Residual standard error: 2.061 on 9995 degrees of freedom\n",
              "Multiple R-squared:  0.9885,\tAdjusted R-squared:  0.9885 \n",
              "F-statistic: 2.147e+05 on 4 and 9995 DF,  p-value: < 2.2e-16\n"
            ]
          },
          "metadata": {}
        }
      ]
    },
    {
      "cell_type": "markdown",
      "source": [
        "**Coefficient of determination (R-squared)**"
      ],
      "metadata": {
        "id": "FWIVXsQQNyeW"
      }
    },
    {
      "cell_type": "code",
      "source": [
        "r_squared <- summary(model)$r.squared\n",
        "r_squared"
      ],
      "metadata": {
        "colab": {
          "base_uri": "https://localhost:8080/",
          "height": 34
        },
        "id": "lYlUvy1zACEd",
        "outputId": "130e20fb-f6aa-45da-c734-5e14f1a56a8c"
      },
      "execution_count": 9,
      "outputs": [
        {
          "output_type": "display_data",
          "data": {
            "text/html": [
              "0.988498121677258"
            ],
            "text/markdown": "0.988498121677258",
            "text/latex": "0.988498121677258",
            "text/plain": [
              "[1] 0.9884981"
            ]
          },
          "metadata": {}
        }
      ]
    },
    {
      "cell_type": "markdown",
      "source": [
        "**Intercept**"
      ],
      "metadata": {
        "id": "k-BSam_-Nt6M"
      }
    },
    {
      "cell_type": "code",
      "source": [
        "intercept <- coef(model)[1]\n",
        "intercept"
      ],
      "metadata": {
        "colab": {
          "base_uri": "https://localhost:8080/",
          "height": 34
        },
        "id": "Fx6niCi9AX9U",
        "outputId": "11a47384-2fed-47bd-82c5-3390cd0cf5ff"
      },
      "execution_count": 10,
      "outputs": [
        {
          "output_type": "display_data",
          "data": {
            "text/html": [
              "<strong>(Intercept):</strong> -33.7637260907948"
            ],
            "text/markdown": "**(Intercept):** -33.7637260907948",
            "text/latex": "\\textbf{(Intercept):} -33.7637260907948",
            "text/plain": [
              "(Intercept) \n",
              "  -33.76373 "
            ]
          },
          "metadata": {}
        }
      ]
    },
    {
      "cell_type": "markdown",
      "source": [
        "**Coefficients**"
      ],
      "metadata": {
        "id": "-RBBEZhYNpFr"
      }
    },
    {
      "cell_type": "code",
      "source": [
        "coefficients <- coef(model)[-1]\n",
        "coefficients"
      ],
      "metadata": {
        "colab": {
          "base_uri": "https://localhost:8080/",
          "height": 34
        },
        "id": "6oawrAHiAaRP",
        "outputId": "d3acc828-52db-44ac-b2a9-7c55cd168c75"
      },
      "execution_count": 11,
      "outputs": [
        {
          "output_type": "display_data",
          "data": {
            "text/html": [
              "<style>\n",
              ".dl-inline {width: auto; margin:0; padding: 0}\n",
              ".dl-inline>dt, .dl-inline>dd {float: none; width: auto; display: inline-block}\n",
              ".dl-inline>dt::after {content: \":\\0020\"; padding-right: .5ex}\n",
              ".dl-inline>dt:not(:first-of-type) {padding-left: .5ex}\n",
              "</style><dl class=dl-inline><dt>Hours.Studied</dt><dd>2.85342921456769</dd><dt>Previous.Scores</dt><dd>1.01858353850839</dd><dt>Sleep.Hours</dt><dd>0.476332981977769</dd><dt>Sample.Question.Papers.Practiced</dt><dd>0.195198296660483</dd></dl>\n"
            ],
            "text/markdown": "Hours.Studied\n:   2.85342921456769Previous.Scores\n:   1.01858353850839Sleep.Hours\n:   0.476332981977769Sample.Question.Papers.Practiced\n:   0.195198296660483\n\n",
            "text/latex": "\\begin{description*}\n\\item[Hours.Studied] 2.85342921456769\n\\item[Previous.Scores] 1.01858353850839\n\\item[Sleep.Hours] 0.476332981977769\n\\item[Sample.Question.Papers.Practiced] 0.195198296660483\n\\end{description*}\n",
            "text/plain": [
              "                   Hours.Studied                  Previous.Scores \n",
              "                       2.8534292                        1.0185835 \n",
              "                     Sleep.Hours Sample.Question.Papers.Practiced \n",
              "                       0.4763330                        0.1951983 "
            ]
          },
          "metadata": {}
        }
      ]
    },
    {
      "cell_type": "markdown",
      "source": [
        "**Predict the response**"
      ],
      "metadata": {
        "id": "zP3eKqiTNlGa"
      }
    },
    {
      "cell_type": "code",
      "source": [
        "predictions <- predict(model, newdata = data)"
      ],
      "metadata": {
        "id": "qlY6aQaaAgRk"
      },
      "execution_count": 12,
      "outputs": []
    },
    {
      "cell_type": "markdown",
      "source": [
        "**Scatter plot of actual vs. predicted values**"
      ],
      "metadata": {
        "id": "fhIFH3Y2ODWO"
      }
    },
    {
      "cell_type": "code",
      "source": [
        "library(ggplot2)\n",
        "ggplot(data, aes(x = Hours.Studied, y = predictions)) +\n",
        "  geom_point() +\n",
        "  geom_abline(intercept = intercept, slope = 1, color = \"red\") +\n",
        "  labs(x = \"Actual\", y = \"Predicted\", title = \"Actual vs. Predicted\")"
      ],
      "metadata": {
        "colab": {
          "base_uri": "https://localhost:8080/",
          "height": 437
        },
        "id": "W_B2tAogAofv",
        "outputId": "24c77643-9bad-40fd-d32e-99b586927bfc"
      },
      "execution_count": 13,
      "outputs": [
        {
          "output_type": "display_data",
          "data": {
            "text/plain": [
              "plot without title"
            ],
            "image/png": "[encoded data removed]"
          },
          "metadata": {
            "image/png": {
              "width": 420,
              "height": 420
            }
          }
        }
      ]
    },
    {
      "cell_type": "code",
      "source": [
        "hist(model$residuals)"
      ],
      "metadata": {
        "colab": {
          "base_uri": "https://localhost:8080/",
          "height": 437
        },
        "id": "xZ9tDIVIBks2",
        "outputId": "9e9acc39-2bca-4eba-afc2-663f981f2233"
      },
      "execution_count": 14,
      "outputs": [
        {
          "output_type": "display_data",
          "data": {
            "text/plain": [
              "Plot with title “Histogram of model$residuals”"
            ],
            "image/png": "[encoded data removed]"
          },
          "metadata": {
            "image/png": {
              "width": 420,
              "height": 420
            }
          }
        }
      ]
    }
  ]
}